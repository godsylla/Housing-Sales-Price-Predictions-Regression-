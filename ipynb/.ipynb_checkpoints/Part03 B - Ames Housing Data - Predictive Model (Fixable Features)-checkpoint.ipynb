{
 "cells": [
  {
   "cell_type": "markdown",
   "metadata": {},
   "source": [
    "# Regression and Classification with the Ames Housing Data\n",
    "\n",
    "---\n",
    "\n",
    "## Premise: \n",
    "I have just joined a new \"full stack\" real estate company in Ames, Iowa. The strategy of the firm is two-fold:\n",
    "- Own the entire process from the purchase of the land all the way to sale of the house, and anything in between.\n",
    "- Use statistical analysis to optimize investment and maximize return.\n",
    "\n",
    "The company is still small, and though investment is substantial the short-term goals of the company are more oriented towards purchasing existing houses and flipping them as opposed to constructing entirely new houses. That being said, the company has access to a large construction workforce operating at rock-bottom prices.\n",
    "\n",
    "This project uses the [Ames housing data recently made available on kaggle](https://www.kaggle.com/c/house-prices-advanced-regression-techniques)."
   ]
  },
  {
   "cell_type": "markdown",
   "metadata": {},
   "source": [
    "## Data:\n",
    "The full description of the data features can be found in a separate file:\n",
    "\n",
    "    housing.csv\n",
    "    data_description.txt\n",
    "\n",
    "## Objective:\n",
    "1. Develop an algorithm to estimate the value of the residential homes based on fixed characteristics (those that are not considered easy to renovate).\n",
    "2. Identify characteristics of homes that the company can cost-effectively change/renovate with their construction team.\n",
    "3. Evaluate the mean dollar value of different renovations.\n",
    "\n",
    "Use the information to buy homes that are likely to sell for more than the initial purchase.\n",
    "\n",
    "## Process:\n",
    "1. Perform any cleaning, feature engineering, and EDA you deem necessary.\n",
    "- Be sure to remove any houses that are not residential from the dataset.\n",
    "- Identify **fixed** features that can predict price.\n",
    "- Train a model on pre-2010 data and evaluate its performance on the 2010 houses.\n",
    "- Characterize and evaluate the model. (How does it perform and what are the best estimates of price?)\n",
    "\n",
    "## Citations:\n",
    "- http://www.remodeling.hw.net/cost-vs-value/2010/west-north-central/des-moines-ia/\n",
    "- http://cdnassets.hw.net/b6/3d/047accdd4174a4965051631d7900/cvv-2010-2011-professional-desmoinesia.pdf"
   ]
  },
  {
   "cell_type": "code",
   "execution_count": 1,
   "metadata": {
    "collapsed": true
   },
   "outputs": [],
   "source": [
    "!pip install display --quiet"
   ]
  },
  {
   "cell_type": "code",
   "execution_count": 2,
   "metadata": {
    "collapsed": true
   },
   "outputs": [],
   "source": [
    "import sys\n",
    "import numpy as np, pandas as pd\n",
    "import scipy.stats as stats\n",
    "import matplotlib.pyplot as plt, seaborn as sns\n",
    "\n",
    "sns.set_style('whitegrid')\n",
    "\n",
    "%config InlineBackend.figure_format = 'retina'\n",
    "%matplotlib inline"
   ]
  },
  {
   "cell_type": "markdown",
   "metadata": {},
   "source": [
    "### Load and Inspect the Data"
   ]
  },
  {
   "cell_type": "code",
   "execution_count": 3,
   "metadata": {
    "collapsed": true
   },
   "outputs": [],
   "source": [
    "from os import chdir"
   ]
  },
  {
   "cell_type": "code",
   "execution_count": 4,
   "metadata": {
    "scrolled": true
   },
   "outputs": [
    {
     "data": {
      "text/plain": [
       "'/home/jovyan/DSI/DSI_Plus_1_Curriculum/project-three/project-three/ipynb'"
      ]
     },
     "execution_count": 4,
     "metadata": {},
     "output_type": "execute_result"
    }
   ],
   "source": [
    "pwd"
   ]
  },
  {
   "cell_type": "code",
   "execution_count": 5,
   "metadata": {
    "collapsed": true
   },
   "outputs": [],
   "source": [
    "chdir('../')"
   ]
  },
  {
   "cell_type": "code",
   "execution_count": 6,
   "metadata": {
    "collapsed": true
   },
   "outputs": [],
   "source": [
    "from library import functions as fy"
   ]
  },
  {
   "cell_type": "code",
   "execution_count": 7,
   "metadata": {
    "collapsed": true
   },
   "outputs": [],
   "source": [
    "clean_house_df = pd.read_pickle('./assets/clean_house_df.p')"
   ]
  },
  {
   "cell_type": "code",
   "execution_count": 8,
   "metadata": {
    "scrolled": true
   },
   "outputs": [
    {
     "data": {
      "text/html": [
       "<div>\n",
       "<table border=\"1\" class=\"dataframe\">\n",
       "  <thead>\n",
       "    <tr style=\"text-align: right;\">\n",
       "      <th></th>\n",
       "      <th>Id</th>\n",
       "      <th>MSSubClass</th>\n",
       "      <th>MSZoning</th>\n",
       "      <th>LotFrontage</th>\n",
       "      <th>LotArea</th>\n",
       "      <th>Street</th>\n",
       "      <th>LotShape</th>\n",
       "      <th>LandContour</th>\n",
       "      <th>Utilities</th>\n",
       "      <th>LotConfig</th>\n",
       "      <th>...</th>\n",
       "      <th>EnclosedPorch</th>\n",
       "      <th>3SsnPorch</th>\n",
       "      <th>ScreenPorch</th>\n",
       "      <th>PoolArea</th>\n",
       "      <th>MiscVal</th>\n",
       "      <th>MoSold</th>\n",
       "      <th>YrSold</th>\n",
       "      <th>SaleType</th>\n",
       "      <th>SaleCondition</th>\n",
       "      <th>SalePrice</th>\n",
       "    </tr>\n",
       "  </thead>\n",
       "  <tbody>\n",
       "    <tr>\n",
       "      <th>0</th>\n",
       "      <td>1</td>\n",
       "      <td>60</td>\n",
       "      <td>RL</td>\n",
       "      <td>65.0</td>\n",
       "      <td>8450</td>\n",
       "      <td>Pave</td>\n",
       "      <td>Reg</td>\n",
       "      <td>Lvl</td>\n",
       "      <td>AllPub</td>\n",
       "      <td>Inside</td>\n",
       "      <td>...</td>\n",
       "      <td>0</td>\n",
       "      <td>0</td>\n",
       "      <td>0</td>\n",
       "      <td>0</td>\n",
       "      <td>0</td>\n",
       "      <td>2</td>\n",
       "      <td>2008</td>\n",
       "      <td>WD</td>\n",
       "      <td>Normal</td>\n",
       "      <td>208500</td>\n",
       "    </tr>\n",
       "    <tr>\n",
       "      <th>1</th>\n",
       "      <td>2</td>\n",
       "      <td>20</td>\n",
       "      <td>RL</td>\n",
       "      <td>80.0</td>\n",
       "      <td>9600</td>\n",
       "      <td>Pave</td>\n",
       "      <td>Reg</td>\n",
       "      <td>Lvl</td>\n",
       "      <td>AllPub</td>\n",
       "      <td>FR2</td>\n",
       "      <td>...</td>\n",
       "      <td>0</td>\n",
       "      <td>0</td>\n",
       "      <td>0</td>\n",
       "      <td>0</td>\n",
       "      <td>0</td>\n",
       "      <td>5</td>\n",
       "      <td>2007</td>\n",
       "      <td>WD</td>\n",
       "      <td>Normal</td>\n",
       "      <td>181500</td>\n",
       "    </tr>\n",
       "    <tr>\n",
       "      <th>2</th>\n",
       "      <td>3</td>\n",
       "      <td>60</td>\n",
       "      <td>RL</td>\n",
       "      <td>68.0</td>\n",
       "      <td>11250</td>\n",
       "      <td>Pave</td>\n",
       "      <td>IR1</td>\n",
       "      <td>Lvl</td>\n",
       "      <td>AllPub</td>\n",
       "      <td>Inside</td>\n",
       "      <td>...</td>\n",
       "      <td>0</td>\n",
       "      <td>0</td>\n",
       "      <td>0</td>\n",
       "      <td>0</td>\n",
       "      <td>0</td>\n",
       "      <td>9</td>\n",
       "      <td>2008</td>\n",
       "      <td>WD</td>\n",
       "      <td>Normal</td>\n",
       "      <td>223500</td>\n",
       "    </tr>\n",
       "    <tr>\n",
       "      <th>3</th>\n",
       "      <td>4</td>\n",
       "      <td>70</td>\n",
       "      <td>RL</td>\n",
       "      <td>60.0</td>\n",
       "      <td>9550</td>\n",
       "      <td>Pave</td>\n",
       "      <td>IR1</td>\n",
       "      <td>Lvl</td>\n",
       "      <td>AllPub</td>\n",
       "      <td>Corner</td>\n",
       "      <td>...</td>\n",
       "      <td>272</td>\n",
       "      <td>0</td>\n",
       "      <td>0</td>\n",
       "      <td>0</td>\n",
       "      <td>0</td>\n",
       "      <td>2</td>\n",
       "      <td>2006</td>\n",
       "      <td>WD</td>\n",
       "      <td>Abnorml</td>\n",
       "      <td>140000</td>\n",
       "    </tr>\n",
       "    <tr>\n",
       "      <th>4</th>\n",
       "      <td>5</td>\n",
       "      <td>60</td>\n",
       "      <td>RL</td>\n",
       "      <td>84.0</td>\n",
       "      <td>14260</td>\n",
       "      <td>Pave</td>\n",
       "      <td>IR1</td>\n",
       "      <td>Lvl</td>\n",
       "      <td>AllPub</td>\n",
       "      <td>FR2</td>\n",
       "      <td>...</td>\n",
       "      <td>0</td>\n",
       "      <td>0</td>\n",
       "      <td>0</td>\n",
       "      <td>0</td>\n",
       "      <td>0</td>\n",
       "      <td>12</td>\n",
       "      <td>2008</td>\n",
       "      <td>WD</td>\n",
       "      <td>Normal</td>\n",
       "      <td>250000</td>\n",
       "    </tr>\n",
       "  </tbody>\n",
       "</table>\n",
       "<p>5 rows × 70 columns</p>\n",
       "</div>"
      ],
      "text/plain": [
       "   Id  MSSubClass MSZoning  LotFrontage  LotArea Street LotShape LandContour  \\\n",
       "0   1          60       RL         65.0     8450   Pave      Reg         Lvl   \n",
       "1   2          20       RL         80.0     9600   Pave      Reg         Lvl   \n",
       "2   3          60       RL         68.0    11250   Pave      IR1         Lvl   \n",
       "3   4          70       RL         60.0     9550   Pave      IR1         Lvl   \n",
       "4   5          60       RL         84.0    14260   Pave      IR1         Lvl   \n",
       "\n",
       "  Utilities LotConfig    ...     EnclosedPorch 3SsnPorch ScreenPorch PoolArea  \\\n",
       "0    AllPub    Inside    ...                 0         0           0        0   \n",
       "1    AllPub       FR2    ...                 0         0           0        0   \n",
       "2    AllPub    Inside    ...                 0         0           0        0   \n",
       "3    AllPub    Corner    ...               272         0           0        0   \n",
       "4    AllPub       FR2    ...                 0         0           0        0   \n",
       "\n",
       "  MiscVal MoSold  YrSold  SaleType  SaleCondition  SalePrice  \n",
       "0       0      2    2008        WD         Normal     208500  \n",
       "1       0      5    2007        WD         Normal     181500  \n",
       "2       0      9    2008        WD         Normal     223500  \n",
       "3       0      2    2006        WD        Abnorml     140000  \n",
       "4       0     12    2008        WD         Normal     250000  \n",
       "\n",
       "[5 rows x 70 columns]"
      ]
     },
     "execution_count": 8,
     "metadata": {},
     "output_type": "execute_result"
    }
   ],
   "source": [
    "clean_house_df.head()"
   ]
  },
  {
   "cell_type": "code",
   "execution_count": 9,
   "metadata": {},
   "outputs": [
    {
     "name": "stdout",
     "output_type": "stream",
     "text": [
      "<class 'pandas.core.frame.DataFrame'>\n",
      "Int64Index: 1385 entries, 0 to 1459\n",
      "Data columns (total 70 columns):\n",
      "Id               1385 non-null int64\n",
      "MSSubClass       1385 non-null int64\n",
      "MSZoning         1385 non-null object\n",
      "LotFrontage      1385 non-null float64\n",
      "LotArea          1385 non-null int64\n",
      "Street           1385 non-null object\n",
      "LotShape         1385 non-null object\n",
      "LandContour      1385 non-null object\n",
      "Utilities        1385 non-null object\n",
      "LotConfig        1385 non-null object\n",
      "LandSlope        1385 non-null object\n",
      "Neighborhood     1385 non-null object\n",
      "Condition1       1385 non-null object\n",
      "Condition2       1385 non-null object\n",
      "BldgType         1385 non-null object\n",
      "HouseStyle       1385 non-null object\n",
      "OverallQual      1385 non-null int64\n",
      "OverallCond      1385 non-null int64\n",
      "YearBuilt        1385 non-null int64\n",
      "YearRemodAdd     1385 non-null int64\n",
      "RoofStyle        1385 non-null object\n",
      "RoofMatl         1385 non-null object\n",
      "Exterior1st      1385 non-null object\n",
      "MasVnrType       1385 non-null object\n",
      "MasVnrArea       1385 non-null float64\n",
      "ExterQual        1385 non-null object\n",
      "ExterCond        1385 non-null object\n",
      "Foundation       1385 non-null object\n",
      "BsmtQual         1385 non-null object\n",
      "BsmtExposure     1385 non-null object\n",
      "BsmtFinSF1       1385 non-null int64\n",
      "BsmtFinSF2       1385 non-null int64\n",
      "BsmtUnfSF        1385 non-null int64\n",
      "TotalBsmtSF      1385 non-null int64\n",
      "Heating          1385 non-null object\n",
      "HeatingQC        1385 non-null object\n",
      "CentralAir       1385 non-null object\n",
      "Electrical       1385 non-null object\n",
      "1stFlrSF         1385 non-null int64\n",
      "2ndFlrSF         1385 non-null int64\n",
      "LowQualFinSF     1385 non-null int64\n",
      "GrLivArea        1385 non-null int64\n",
      "BsmtFullBath     1385 non-null int64\n",
      "BsmtHalfBath     1385 non-null int64\n",
      "FullBath         1385 non-null int64\n",
      "HalfBath         1385 non-null int64\n",
      "BedroomAbvGr     1385 non-null int64\n",
      "KitchenAbvGr     1385 non-null int64\n",
      "KitchenQual      1385 non-null object\n",
      "TotRmsAbvGrd     1385 non-null int64\n",
      "Functional       1385 non-null object\n",
      "Fireplaces       1385 non-null int64\n",
      "GarageType       1385 non-null object\n",
      "GarageYrBlt      1385 non-null object\n",
      "GarageFinish     1385 non-null object\n",
      "GarageArea       1385 non-null int64\n",
      "GarageQual       1385 non-null object\n",
      "PavedDrive       1385 non-null object\n",
      "WoodDeckSF       1385 non-null int64\n",
      "OpenPorchSF      1385 non-null int64\n",
      "EnclosedPorch    1385 non-null int64\n",
      "3SsnPorch        1385 non-null int64\n",
      "ScreenPorch      1385 non-null int64\n",
      "PoolArea         1385 non-null int64\n",
      "MiscVal          1385 non-null int64\n",
      "MoSold           1385 non-null int64\n",
      "YrSold           1385 non-null int64\n",
      "SaleType         1385 non-null object\n",
      "SaleCondition    1385 non-null object\n",
      "SalePrice        1385 non-null int64\n",
      "dtypes: float64(2), int64(34), object(34)\n",
      "memory usage: 768.2+ KB\n"
     ]
    }
   ],
   "source": [
    "clean_house_df.info()"
   ]
  },
  {
   "cell_type": "code",
   "execution_count": 10,
   "metadata": {
    "collapsed": true
   },
   "outputs": [],
   "source": [
    "import pickle"
   ]
  },
  {
   "cell_type": "code",
   "execution_count": 11,
   "metadata": {
    "collapsed": true
   },
   "outputs": [],
   "source": [
    "hardtofix = pickle.load(open('./hardtofix.p', 'rb'))\n",
    "lesshardtofix = pickle.load(open('./lesshardtofix.p', 'rb'))"
   ]
  },
  {
   "cell_type": "code",
   "execution_count": 14,
   "metadata": {},
   "outputs": [
    {
     "data": {
      "text/plain": [
       "['OverallQual',\n",
       " 'OverallCond',\n",
       " 'RoofStyle',\n",
       " 'RoofMatl',\n",
       " 'Exterior1st',\n",
       " 'ExterQual',\n",
       " 'ExterCond',\n",
       " 'MasVnrType',\n",
       " 'MasVnrArea',\n",
       " 'BsmtExposure',\n",
       " 'BsmtFullBath',\n",
       " 'BsmtHalfBath',\n",
       " 'FullBath',\n",
       " 'HalfBath',\n",
       " 'BedroomAbvGr',\n",
       " 'KitchenAbvGr',\n",
       " 'Functional',\n",
       " 'Fireplaces',\n",
       " 'GarageArea']"
      ]
     },
     "metadata": {},
     "output_type": "display_data"
    },
    {
     "data": {
      "text/plain": [
       "['BsmtFinSF1',\n",
       " 'Heating',\n",
       " 'HeatingQC',\n",
       " 'CentralAir',\n",
       " 'Electrical',\n",
       " 'LowQualFinSF',\n",
       " 'KitchenQual',\n",
       " 'TotRmsAbvGrd',\n",
       " 'GarageFinish',\n",
       " 'GarageQual',\n",
       " 'PavedDrive']"
      ]
     },
     "metadata": {},
     "output_type": "display_data"
    }
   ],
   "source": [
    "display(hardtofix)\n",
    "display(lesshardtofix)"
   ]
  },
  {
   "cell_type": "code",
   "execution_count": 15,
   "metadata": {},
   "outputs": [
    {
     "name": "stdout",
     "output_type": "stream",
     "text": [
      "<class 'pandas.core.frame.DataFrame'>\n",
      "Int64Index: 1385 entries, 0 to 1459\n",
      "Data columns (total 11 columns):\n",
      "BsmtFinSF1      1385 non-null int64\n",
      "Heating         1385 non-null object\n",
      "HeatingQC       1385 non-null object\n",
      "CentralAir      1385 non-null object\n",
      "Electrical      1385 non-null object\n",
      "LowQualFinSF    1385 non-null int64\n",
      "KitchenQual     1385 non-null object\n",
      "TotRmsAbvGrd    1385 non-null int64\n",
      "GarageFinish    1385 non-null object\n",
      "GarageQual      1385 non-null object\n",
      "PavedDrive      1385 non-null object\n",
      "dtypes: int64(3), object(8)\n",
      "memory usage: 129.8+ KB\n"
     ]
    }
   ],
   "source": [
    "X = clean_house_df[lesshardtofix]\n",
    "X.info()"
   ]
  },
  {
   "cell_type": "code",
   "execution_count": 20,
   "metadata": {
    "collapsed": true
   },
   "outputs": [],
   "source": [
    "categorical = ['Heating', 'HeatingQC', 'CentralAir', 'Electrical', 'KitchenQual', 'GarageFinish', \\\n",
    "               'GarageQual', 'PavedDrive']"
   ]
  },
  {
   "cell_type": "code",
   "execution_count": 21,
   "metadata": {},
   "outputs": [],
   "source": [
    "numerical = [column for column in X.columns if column not in categorical]"
   ]
  },
  {
   "cell_type": "code",
   "execution_count": 22,
   "metadata": {},
   "outputs": [],
   "source": [
    "X_dummies_df = pd.get_dummies(X, columns=categorical)"
   ]
  },
  {
   "cell_type": "code",
   "execution_count": 24,
   "metadata": {},
   "outputs": [
    {
     "data": {
      "text/plain": [
       "(1221, 38)"
      ]
     },
     "execution_count": 24,
     "metadata": {},
     "output_type": "execute_result"
    }
   ],
   "source": [
    "X_train = X_dummies_df[clean_house_df['YrSold'] != 2010]\n",
    "X_train.shape"
   ]
  },
  {
   "cell_type": "code",
   "execution_count": 26,
   "metadata": {},
   "outputs": [
    {
     "data": {
      "text/plain": [
       "(164, 38)"
      ]
     },
     "execution_count": 26,
     "metadata": {},
     "output_type": "execute_result"
    }
   ],
   "source": [
    "X_test = X_dummies_df[clean_house_df['YrSold'] == 2010]\n",
    "X_test.shape"
   ]
  },
  {
   "cell_type": "code",
   "execution_count": 29,
   "metadata": {},
   "outputs": [],
   "source": [
    "y_train = pickle.load(open('./y_train.p', 'rb'))\n",
    "y_test = pickle.load(open('./y_test.p', 'rb'))"
   ]
  },
  {
   "cell_type": "code",
   "execution_count": 30,
   "metadata": {},
   "outputs": [
    {
     "data": {
      "text/plain": [
       "(1221,)"
      ]
     },
     "metadata": {},
     "output_type": "display_data"
    },
    {
     "data": {
      "text/plain": [
       "(164,)"
      ]
     },
     "metadata": {},
     "output_type": "display_data"
    }
   ],
   "source": [
    "display(y_train.shape)\n",
    "display(y_test.shape)"
   ]
  },
  {
   "cell_type": "code",
   "execution_count": 36,
   "metadata": {},
   "outputs": [],
   "source": [
    "from sklearn.linear_model import LinearRegression, Lasso, ElasticNet\n",
    "from sklearn.preprocessing import StandardScaler\n",
    "from sklearn.pipeline import Pipeline\n",
    "from sklearn.model_selection import GridSearchCV, ShuffleSplit \n",
    "from sklearn.feature_selection import SelectFromModel"
   ]
  },
  {
   "cell_type": "code",
   "execution_count": 39,
   "metadata": {
    "collapsed": true
   },
   "outputs": [],
   "source": [
    "np.random.seed(42)"
   ]
  },
  {
   "cell_type": "code",
   "execution_count": 40,
   "metadata": {},
   "outputs": [],
   "source": [
    "linreg_pipe = Pipeline([\n",
    "    ('scaler', StandardScaler()),\n",
    "    ('sfm', SelectFromModel(Lasso())),\n",
    "    ('linreg', LinearRegression(n_jobs=-1)),\n",
    "])"
   ]
  },
  {
   "cell_type": "code",
   "execution_count": 70,
   "metadata": {
    "collapsed": true
   },
   "outputs": [],
   "source": [
    "linreg_param = {\n",
    "    'sfm__estimator': [Lasso(alpha=a) for a in np.logspace(2,3,5)],\n",
    "}"
   ]
  },
  {
   "cell_type": "code",
   "execution_count": 71,
   "metadata": {
    "collapsed": true
   },
   "outputs": [],
   "source": [
    "linreg_gs = GridSearchCV(linreg_pipe, param_grid=linreg_param, cv=5, n_jobs=-1)"
   ]
  },
  {
   "cell_type": "code",
   "execution_count": 72,
   "metadata": {
    "scrolled": true
   },
   "outputs": [
    {
     "name": "stderr",
     "output_type": "stream",
     "text": [
      "/opt/conda/lib/python3.6/site-packages/sklearn/linear_model/coordinate_descent.py:484: ConvergenceWarning: Objective did not converge. You might want to increase the number of iterations. Fitting data with very small alpha may cause precision problems.\n",
      "  ConvergenceWarning)\n",
      "/opt/conda/lib/python3.6/site-packages/sklearn/linear_model/coordinate_descent.py:484: ConvergenceWarning: Objective did not converge. You might want to increase the number of iterations. Fitting data with very small alpha may cause precision problems.\n",
      "  ConvergenceWarning)\n",
      "/opt/conda/lib/python3.6/site-packages/sklearn/linear_model/coordinate_descent.py:484: ConvergenceWarning: Objective did not converge. You might want to increase the number of iterations. Fitting data with very small alpha may cause precision problems.\n",
      "  ConvergenceWarning)\n",
      "/opt/conda/lib/python3.6/site-packages/sklearn/linear_model/coordinate_descent.py:484: ConvergenceWarning: Objective did not converge. You might want to increase the number of iterations. Fitting data with very small alpha may cause precision problems.\n",
      "  ConvergenceWarning)\n",
      "/opt/conda/lib/python3.6/site-packages/sklearn/linear_model/coordinate_descent.py:484: ConvergenceWarning: Objective did not converge. You might want to increase the number of iterations. Fitting data with very small alpha may cause precision problems.\n",
      "  ConvergenceWarning)\n"
     ]
    },
    {
     "data": {
      "text/plain": [
       "GridSearchCV(cv=5, error_score='raise',\n",
       "       estimator=Pipeline(steps=[('scaler', StandardScaler(copy=True, with_mean=True, with_std=True)), ('sfm', SelectFromModel(estimator=Lasso(alpha=1.0, copy_X=True, fit_intercept=True, max_iter=1000,\n",
       "   normalize=False, positive=False, precompute=False, random_state=None,\n",
       "   selection='cyclic', tol=0.0001, warm_start=False),\n",
       "        prefit=False, threshold=None)), ('linreg', LinearRegression(copy_X=True, fit_intercept=True, n_jobs=-1, normalize=False))]),\n",
       "       fit_params={}, iid=True, n_jobs=-1,\n",
       "       param_grid={'sfm__estimator': [Lasso(alpha=100.0, copy_X=True, fit_intercept=True, max_iter=1000,\n",
       "   normalize=False, positive=False, precompute=False, random_state=None,\n",
       "   selection='cyclic', tol=0.0001, warm_start=False), Lasso(alpha=177.82794100389228, copy_X=True, fit_intercept=True,\n",
       "   max_ite...e=False, precompute=False, random_state=None,\n",
       "   selection='cyclic', tol=0.0001, warm_start=False)]},\n",
       "       pre_dispatch='2*n_jobs', refit=True, return_train_score=True,\n",
       "       scoring=None, verbose=0)"
      ]
     },
     "execution_count": 72,
     "metadata": {},
     "output_type": "execute_result"
    }
   ],
   "source": [
    "linreg_gs.fit(X_train, y_train)"
   ]
  },
  {
   "cell_type": "code",
   "execution_count": 98,
   "metadata": {
    "collapsed": true
   },
   "outputs": [],
   "source": [
    "import pickle"
   ]
  },
  {
   "cell_type": "code",
   "execution_count": 99,
   "metadata": {},
   "outputs": [
    {
     "name": "stderr",
     "output_type": "stream",
     "text": [
      "/opt/conda/lib/python3.6/site-packages/sklearn/linear_model/coordinate_descent.py:484: ConvergenceWarning: Objective did not converge. You might want to increase the number of iterations. Fitting data with very small alpha may cause precision problems.\n",
      "  ConvergenceWarning)\n",
      "/opt/conda/lib/python3.6/site-packages/sklearn/linear_model/coordinate_descent.py:484: ConvergenceWarning: Objective did not converge. You might want to increase the number of iterations. Fitting data with very small alpha may cause precision problems.\n",
      "  ConvergenceWarning)\n",
      "/opt/conda/lib/python3.6/site-packages/sklearn/linear_model/coordinate_descent.py:484: ConvergenceWarning: Objective did not converge. You might want to increase the number of iterations. Fitting data with very small alpha may cause precision problems.\n",
      "  ConvergenceWarning)\n",
      "/opt/conda/lib/python3.6/site-packages/sklearn/linear_model/coordinate_descent.py:484: ConvergenceWarning: Objective did not converge. You might want to increase the number of iterations. Fitting data with very small alpha may cause precision problems.\n",
      "  ConvergenceWarning)\n",
      "/opt/conda/lib/python3.6/site-packages/sklearn/linear_model/coordinate_descent.py:484: ConvergenceWarning: Objective did not converge. You might want to increase the number of iterations. Fitting data with very small alpha may cause precision problems.\n",
      "  ConvergenceWarning)\n"
     ]
    }
   ],
   "source": [
    "linreg_model = linreg_gs.fit(X_train, y_train)"
   ]
  },
  {
   "cell_type": "code",
   "execution_count": 102,
   "metadata": {},
   "outputs": [],
   "source": [
    "pickle.dump(linreg_model, open('./assets/linreg_model.p', 'wb'))"
   ]
  },
  {
   "cell_type": "code",
   "execution_count": 73,
   "metadata": {},
   "outputs": [
    {
     "data": {
      "text/html": [
       "<div>\n",
       "<table border=\"1\" class=\"dataframe\">\n",
       "  <thead>\n",
       "    <tr style=\"text-align: right;\">\n",
       "      <th></th>\n",
       "      <th>3</th>\n",
       "      <th>0</th>\n",
       "      <th>1</th>\n",
       "      <th>2</th>\n",
       "      <th>4</th>\n",
       "    </tr>\n",
       "  </thead>\n",
       "  <tbody>\n",
       "    <tr>\n",
       "      <th>mean_fit_time</th>\n",
       "      <td>0.02159</td>\n",
       "      <td>0.0587286</td>\n",
       "      <td>0.0437418</td>\n",
       "      <td>0.0295923</td>\n",
       "      <td>0.0166329</td>\n",
       "    </tr>\n",
       "    <tr>\n",
       "      <th>mean_score_time</th>\n",
       "      <td>0.000698996</td>\n",
       "      <td>0.000891161</td>\n",
       "      <td>0.000961447</td>\n",
       "      <td>0.000699997</td>\n",
       "      <td>0.000678062</td>\n",
       "    </tr>\n",
       "    <tr>\n",
       "      <th>mean_test_score</th>\n",
       "      <td>0.663971</td>\n",
       "      <td>0.663895</td>\n",
       "      <td>0.66387</td>\n",
       "      <td>0.66383</td>\n",
       "      <td>0.663651</td>\n",
       "    </tr>\n",
       "    <tr>\n",
       "      <th>mean_train_score</th>\n",
       "      <td>0.681738</td>\n",
       "      <td>0.681849</td>\n",
       "      <td>0.681848</td>\n",
       "      <td>0.681835</td>\n",
       "      <td>0.681476</td>\n",
       "    </tr>\n",
       "    <tr>\n",
       "      <th>param_sfm__estimator</th>\n",
       "      <td>Lasso(alpha=562.34132519034904, copy_X=True, f...</td>\n",
       "      <td>Lasso(alpha=100.0, copy_X=True, fit_intercept=...</td>\n",
       "      <td>Lasso(alpha=177.82794100389228, copy_X=True, f...</td>\n",
       "      <td>Lasso(alpha=316.22776601683796, copy_X=True, f...</td>\n",
       "      <td>Lasso(alpha=1000.0, copy_X=True, fit_intercept...</td>\n",
       "    </tr>\n",
       "    <tr>\n",
       "      <th>params</th>\n",
       "      <td>{'sfm__estimator': Lasso(alpha=562.34132519034...</td>\n",
       "      <td>{'sfm__estimator': Lasso(alpha=100.0, copy_X=T...</td>\n",
       "      <td>{'sfm__estimator': Lasso(alpha=177.82794100389...</td>\n",
       "      <td>{'sfm__estimator': Lasso(alpha=316.22776601683...</td>\n",
       "      <td>{'sfm__estimator': Lasso(alpha=1000.0, copy_X=...</td>\n",
       "    </tr>\n",
       "    <tr>\n",
       "      <th>rank_test_score</th>\n",
       "      <td>1</td>\n",
       "      <td>2</td>\n",
       "      <td>3</td>\n",
       "      <td>4</td>\n",
       "      <td>5</td>\n",
       "    </tr>\n",
       "    <tr>\n",
       "      <th>split0_test_score</th>\n",
       "      <td>0.689046</td>\n",
       "      <td>0.689233</td>\n",
       "      <td>0.688975</td>\n",
       "      <td>0.68892</td>\n",
       "      <td>0.688169</td>\n",
       "    </tr>\n",
       "    <tr>\n",
       "      <th>split0_train_score</th>\n",
       "      <td>0.673615</td>\n",
       "      <td>0.673646</td>\n",
       "      <td>0.673646</td>\n",
       "      <td>0.67364</td>\n",
       "      <td>0.673239</td>\n",
       "    </tr>\n",
       "    <tr>\n",
       "      <th>split1_test_score</th>\n",
       "      <td>0.725866</td>\n",
       "      <td>0.725833</td>\n",
       "      <td>0.725833</td>\n",
       "      <td>0.725815</td>\n",
       "      <td>0.725442</td>\n",
       "    </tr>\n",
       "    <tr>\n",
       "      <th>split1_train_score</th>\n",
       "      <td>0.665217</td>\n",
       "      <td>0.665333</td>\n",
       "      <td>0.665333</td>\n",
       "      <td>0.665331</td>\n",
       "      <td>0.664783</td>\n",
       "    </tr>\n",
       "    <tr>\n",
       "      <th>split2_test_score</th>\n",
       "      <td>0.667794</td>\n",
       "      <td>0.667802</td>\n",
       "      <td>0.667861</td>\n",
       "      <td>0.667794</td>\n",
       "      <td>0.667431</td>\n",
       "    </tr>\n",
       "    <tr>\n",
       "      <th>split2_train_score</th>\n",
       "      <td>0.680778</td>\n",
       "      <td>0.680831</td>\n",
       "      <td>0.680833</td>\n",
       "      <td>0.680778</td>\n",
       "      <td>0.68041</td>\n",
       "    </tr>\n",
       "    <tr>\n",
       "      <th>split3_test_score</th>\n",
       "      <td>0.68283</td>\n",
       "      <td>0.68207</td>\n",
       "      <td>0.682081</td>\n",
       "      <td>0.682024</td>\n",
       "      <td>0.683171</td>\n",
       "    </tr>\n",
       "    <tr>\n",
       "      <th>split3_train_score</th>\n",
       "      <td>0.676569</td>\n",
       "      <td>0.676745</td>\n",
       "      <td>0.676744</td>\n",
       "      <td>0.67674</td>\n",
       "      <td>0.676545</td>\n",
       "    </tr>\n",
       "    <tr>\n",
       "      <th>split4_test_score</th>\n",
       "      <td>0.554217</td>\n",
       "      <td>0.554433</td>\n",
       "      <td>0.554496</td>\n",
       "      <td>0.554496</td>\n",
       "      <td>0.553939</td>\n",
       "    </tr>\n",
       "    <tr>\n",
       "      <th>split4_train_score</th>\n",
       "      <td>0.712513</td>\n",
       "      <td>0.712691</td>\n",
       "      <td>0.712686</td>\n",
       "      <td>0.712686</td>\n",
       "      <td>0.712404</td>\n",
       "    </tr>\n",
       "    <tr>\n",
       "      <th>std_fit_time</th>\n",
       "      <td>0.00262254</td>\n",
       "      <td>0.0104373</td>\n",
       "      <td>0.00711521</td>\n",
       "      <td>0.0021967</td>\n",
       "      <td>0.000970958</td>\n",
       "    </tr>\n",
       "    <tr>\n",
       "      <th>std_score_time</th>\n",
       "      <td>2.30088e-05</td>\n",
       "      <td>0.000203323</td>\n",
       "      <td>0.000483517</td>\n",
       "      <td>1.12517e-05</td>\n",
       "      <td>8.99315e-06</td>\n",
       "    </tr>\n",
       "    <tr>\n",
       "      <th>std_test_score</th>\n",
       "      <td>0.058077</td>\n",
       "      <td>0.0579564</td>\n",
       "      <td>0.0579116</td>\n",
       "      <td>0.0578985</td>\n",
       "      <td>0.0580344</td>\n",
       "    </tr>\n",
       "    <tr>\n",
       "      <th>std_train_score</th>\n",
       "      <td>0.0162089</td>\n",
       "      <td>0.0162383</td>\n",
       "      <td>0.0162363</td>\n",
       "      <td>0.0162383</td>\n",
       "      <td>0.0163005</td>\n",
       "    </tr>\n",
       "  </tbody>\n",
       "</table>\n",
       "</div>"
      ],
      "text/plain": [
       "                                                                      3  \\\n",
       "mean_fit_time                                                   0.02159   \n",
       "mean_score_time                                             0.000698996   \n",
       "mean_test_score                                                0.663971   \n",
       "mean_train_score                                               0.681738   \n",
       "param_sfm__estimator  Lasso(alpha=562.34132519034904, copy_X=True, f...   \n",
       "params                {'sfm__estimator': Lasso(alpha=562.34132519034...   \n",
       "rank_test_score                                                       1   \n",
       "split0_test_score                                              0.689046   \n",
       "split0_train_score                                             0.673615   \n",
       "split1_test_score                                              0.725866   \n",
       "split1_train_score                                             0.665217   \n",
       "split2_test_score                                              0.667794   \n",
       "split2_train_score                                             0.680778   \n",
       "split3_test_score                                               0.68283   \n",
       "split3_train_score                                             0.676569   \n",
       "split4_test_score                                              0.554217   \n",
       "split4_train_score                                             0.712513   \n",
       "std_fit_time                                                 0.00262254   \n",
       "std_score_time                                              2.30088e-05   \n",
       "std_test_score                                                 0.058077   \n",
       "std_train_score                                               0.0162089   \n",
       "\n",
       "                                                                      0  \\\n",
       "mean_fit_time                                                 0.0587286   \n",
       "mean_score_time                                             0.000891161   \n",
       "mean_test_score                                                0.663895   \n",
       "mean_train_score                                               0.681849   \n",
       "param_sfm__estimator  Lasso(alpha=100.0, copy_X=True, fit_intercept=...   \n",
       "params                {'sfm__estimator': Lasso(alpha=100.0, copy_X=T...   \n",
       "rank_test_score                                                       2   \n",
       "split0_test_score                                              0.689233   \n",
       "split0_train_score                                             0.673646   \n",
       "split1_test_score                                              0.725833   \n",
       "split1_train_score                                             0.665333   \n",
       "split2_test_score                                              0.667802   \n",
       "split2_train_score                                             0.680831   \n",
       "split3_test_score                                               0.68207   \n",
       "split3_train_score                                             0.676745   \n",
       "split4_test_score                                              0.554433   \n",
       "split4_train_score                                             0.712691   \n",
       "std_fit_time                                                  0.0104373   \n",
       "std_score_time                                              0.000203323   \n",
       "std_test_score                                                0.0579564   \n",
       "std_train_score                                               0.0162383   \n",
       "\n",
       "                                                                      1  \\\n",
       "mean_fit_time                                                 0.0437418   \n",
       "mean_score_time                                             0.000961447   \n",
       "mean_test_score                                                 0.66387   \n",
       "mean_train_score                                               0.681848   \n",
       "param_sfm__estimator  Lasso(alpha=177.82794100389228, copy_X=True, f...   \n",
       "params                {'sfm__estimator': Lasso(alpha=177.82794100389...   \n",
       "rank_test_score                                                       3   \n",
       "split0_test_score                                              0.688975   \n",
       "split0_train_score                                             0.673646   \n",
       "split1_test_score                                              0.725833   \n",
       "split1_train_score                                             0.665333   \n",
       "split2_test_score                                              0.667861   \n",
       "split2_train_score                                             0.680833   \n",
       "split3_test_score                                              0.682081   \n",
       "split3_train_score                                             0.676744   \n",
       "split4_test_score                                              0.554496   \n",
       "split4_train_score                                             0.712686   \n",
       "std_fit_time                                                 0.00711521   \n",
       "std_score_time                                              0.000483517   \n",
       "std_test_score                                                0.0579116   \n",
       "std_train_score                                               0.0162363   \n",
       "\n",
       "                                                                      2  \\\n",
       "mean_fit_time                                                 0.0295923   \n",
       "mean_score_time                                             0.000699997   \n",
       "mean_test_score                                                 0.66383   \n",
       "mean_train_score                                               0.681835   \n",
       "param_sfm__estimator  Lasso(alpha=316.22776601683796, copy_X=True, f...   \n",
       "params                {'sfm__estimator': Lasso(alpha=316.22776601683...   \n",
       "rank_test_score                                                       4   \n",
       "split0_test_score                                               0.68892   \n",
       "split0_train_score                                              0.67364   \n",
       "split1_test_score                                              0.725815   \n",
       "split1_train_score                                             0.665331   \n",
       "split2_test_score                                              0.667794   \n",
       "split2_train_score                                             0.680778   \n",
       "split3_test_score                                              0.682024   \n",
       "split3_train_score                                              0.67674   \n",
       "split4_test_score                                              0.554496   \n",
       "split4_train_score                                             0.712686   \n",
       "std_fit_time                                                  0.0021967   \n",
       "std_score_time                                              1.12517e-05   \n",
       "std_test_score                                                0.0578985   \n",
       "std_train_score                                               0.0162383   \n",
       "\n",
       "                                                                      4  \n",
       "mean_fit_time                                                 0.0166329  \n",
       "mean_score_time                                             0.000678062  \n",
       "mean_test_score                                                0.663651  \n",
       "mean_train_score                                               0.681476  \n",
       "param_sfm__estimator  Lasso(alpha=1000.0, copy_X=True, fit_intercept...  \n",
       "params                {'sfm__estimator': Lasso(alpha=1000.0, copy_X=...  \n",
       "rank_test_score                                                       5  \n",
       "split0_test_score                                              0.688169  \n",
       "split0_train_score                                             0.673239  \n",
       "split1_test_score                                              0.725442  \n",
       "split1_train_score                                             0.664783  \n",
       "split2_test_score                                              0.667431  \n",
       "split2_train_score                                              0.68041  \n",
       "split3_test_score                                              0.683171  \n",
       "split3_train_score                                             0.676545  \n",
       "split4_test_score                                              0.553939  \n",
       "split4_train_score                                             0.712404  \n",
       "std_fit_time                                                0.000970958  \n",
       "std_score_time                                              8.99315e-06  \n",
       "std_test_score                                                0.0580344  \n",
       "std_train_score                                               0.0163005  "
      ]
     },
     "execution_count": 73,
     "metadata": {},
     "output_type": "execute_result"
    }
   ],
   "source": [
    "pd.DataFrame(linreg_gs.cv_results_).sort_values(by='rank_test_score').T"
   ]
  },
  {
   "cell_type": "code",
   "execution_count": 74,
   "metadata": {
    "scrolled": false
   },
   "outputs": [
    {
     "data": {
      "text/plain": [
       "0.67984771425263202"
      ]
     },
     "execution_count": 74,
     "metadata": {},
     "output_type": "execute_result"
    }
   ],
   "source": [
    "linreg_gs.score(X_train, y_train)"
   ]
  },
  {
   "cell_type": "code",
   "execution_count": 75,
   "metadata": {},
   "outputs": [
    {
     "data": {
      "text/plain": [
       "0.76176931281102533"
      ]
     },
     "execution_count": 75,
     "metadata": {},
     "output_type": "execute_result"
    }
   ],
   "source": [
    "linreg_gs.score(X_test, y_test)"
   ]
  },
  {
   "cell_type": "code",
   "execution_count": 76,
   "metadata": {},
   "outputs": [
    {
     "data": {
      "text/plain": [
       "{'sfm__estimator': Lasso(alpha=562.34132519034904, copy_X=True, fit_intercept=True,\n",
       "    max_iter=1000, normalize=False, positive=False, precompute=False,\n",
       "    random_state=None, selection='cyclic', tol=0.0001, warm_start=False)}"
      ]
     },
     "execution_count": 76,
     "metadata": {},
     "output_type": "execute_result"
    }
   ],
   "source": [
    "linreg_gs.best_params_"
   ]
  },
  {
   "cell_type": "code",
   "execution_count": 78,
   "metadata": {},
   "outputs": [],
   "source": [
    "lasso = linreg_gs.best_estimator_.named_steps['sfm'].get_support()"
   ]
  },
  {
   "cell_type": "code",
   "execution_count": 86,
   "metadata": {},
   "outputs": [
    {
     "data": {
      "text/plain": [
       "Index(['BsmtFinSF1', 'LowQualFinSF', 'TotRmsAbvGrd', 'Heating_GasW',\n",
       "       'Heating_Grav', 'Heating_Wall', 'HeatingQC_Ex', 'CentralAir_N',\n",
       "       'Electrical_Mix', 'Electrical_SBrkr', 'KitchenQual_Ex',\n",
       "       'KitchenQual_Fa', 'KitchenQual_TA', 'GarageFinish_Fin',\n",
       "       'GarageFinish_NA', 'GarageFinish_Unf', 'GarageQual_Ex', 'GarageQual_Fa',\n",
       "       'GarageQual_Gd', 'GarageQual_NA', 'GarageQual_TA', 'PavedDrive_N',\n",
       "       'PavedDrive_Y'],\n",
       "      dtype='object')"
      ]
     },
     "execution_count": 86,
     "metadata": {},
     "output_type": "execute_result"
    }
   ],
   "source": [
    "lasso_features = X_train.columns[lasso]\n",
    "lasso_features"
   ]
  },
  {
   "cell_type": "code",
   "execution_count": 106,
   "metadata": {},
   "outputs": [
    {
     "data": {
      "text/html": [
       "<div>\n",
       "<table border=\"1\" class=\"dataframe\">\n",
       "  <thead>\n",
       "    <tr style=\"text-align: right;\">\n",
       "      <th></th>\n",
       "      <th>feature</th>\n",
       "      <th>coefficient</th>\n",
       "    </tr>\n",
       "  </thead>\n",
       "  <tbody>\n",
       "    <tr>\n",
       "      <th>2</th>\n",
       "      <td>TotRmsAbvGrd</td>\n",
       "      <td>28503.478963</td>\n",
       "    </tr>\n",
       "    <tr>\n",
       "      <th>10</th>\n",
       "      <td>KitchenQual_Ex</td>\n",
       "      <td>18216.446577</td>\n",
       "    </tr>\n",
       "    <tr>\n",
       "      <th>0</th>\n",
       "      <td>BsmtFinSF1</td>\n",
       "      <td>15584.293454</td>\n",
       "    </tr>\n",
       "    <tr>\n",
       "      <th>6</th>\n",
       "      <td>HeatingQC_Ex</td>\n",
       "      <td>8192.454552</td>\n",
       "    </tr>\n",
       "    <tr>\n",
       "      <th>18</th>\n",
       "      <td>GarageQual_Gd</td>\n",
       "      <td>4501.195085</td>\n",
       "    </tr>\n",
       "  </tbody>\n",
       "</table>\n",
       "</div>"
      ],
      "text/plain": [
       "           feature   coefficient\n",
       "2     TotRmsAbvGrd  28503.478963\n",
       "10  KitchenQual_Ex  18216.446577\n",
       "0       BsmtFinSF1  15584.293454\n",
       "6     HeatingQC_Ex   8192.454552\n",
       "18   GarageQual_Gd   4501.195085"
      ]
     },
     "execution_count": 106,
     "metadata": {},
     "output_type": "execute_result"
    }
   ],
   "source": [
    "feature_coef = linreg_gs.best_estimator_.named_steps['linreg'].coef_\n",
    "feature_coef_df = pd.DataFrame(list(zip(lasso_features, feature_coef)), columns=['feature', 'coefficient'])\n",
    "top5_feat = feature_coef_df.sort_values(by='coefficient', ascending=False)[:5]\n",
    "top5_feat"
   ]
  },
  {
   "cell_type": "code",
   "execution_count": 108,
   "metadata": {},
   "outputs": [
    {
     "data": {
      "image/png": "[encoded data removed]",
      "text/plain": [
       "<matplotlib.figure.Figure at 0x7f683960c390>"
      ]
     },
     "metadata": {
      "image/png": {
       "height": 248,
       "width": 500
      }
     },
     "output_type": "display_data"
    }
   ],
   "source": [
    "_ = top5_feat.plot(x='feature', y='coefficient', kind='barh', figsize=(7, 4))"
   ]
  },
  {
   "cell_type": "code",
   "execution_count": 109,
   "metadata": {
    "collapsed": true
   },
   "outputs": [],
   "source": [
    "y_pred = linreg_gs.predict(X_test)"
   ]
  },
  {
   "cell_type": "code",
   "execution_count": 111,
   "metadata": {},
   "outputs": [
    {
     "data": {
      "text/plain": [
       "-96916.752871583507"
      ]
     },
     "metadata": {},
     "output_type": "display_data"
    },
    {
     "data": {
      "text/plain": [
       "180031.48826494202"
      ]
     },
     "metadata": {},
     "output_type": "display_data"
    }
   ],
   "source": [
    "residual = (y_test - y_pred)\n",
    "display(residual.min())\n",
    "display(residual.max())"
   ]
  },
  {
   "cell_type": "markdown",
   "metadata": {},
   "source": [
    "### Evaluating model performance"
   ]
  },
  {
   "cell_type": "markdown",
   "metadata": {},
   "source": [
    "**Preprocessing:**\n",
    "1. After running a model on the fixed features, I examined how well renovatable features could predict `SalePrice`. \n",
    "2. I then separated the renovatable features into two categories: (i) numeric and (ii) categorical and subsuently used pd.get_dummies to get dummies on the categorical features, which expanded my DataFrame to hold 38 total features vs. the original 11 fixed features. \n",
    "3.  A manual train/test/split was completed in order to use data for homes sold prior to 2010 to predict SalesPrice for homes sold in 2010.\n",
    "\n",
    "\n",
    "**Model Characteristics:**\n",
    "\n",
    "I built a pipeline, a parameters grid, and ultimately used GridSearchCV to optimize my over all model.\n",
    "\n",
    "Pipeline: My pipeline began with a scaling the data using `StandardScaler()` . I opted to allow GridSearchCV to help determine which of the 38 features should be selected by gridsearching the hyperparameter alpha for Lasso (L1 ratio coefficient, regularization strength). Lastly, since there are only 38 features, compared to the 1,385 instances, I chose LinearRegression because it should be adequate enough to predict `SalePrice`.\n",
    "\n",
    "     `linreg_pipe = Pipeline([\n",
    "    ('scaler', StandardScaler()),\n",
    "    ('sfm', SelectFromModel(Lasso())),\n",
    "    ('linreg', LinearRegression(n_jobs=-1)),\n",
    "     ])`"
   ]
  },
  {
   "cell_type": "markdown",
   "metadata": {},
   "source": [
    "**Model Results:** \n",
    "\n",
    "After running GridSearchCV, the best alpha was 562.34.\n",
    "\n",
    "        {'sfm__estimator': Lasso(alpha=562.34132519034904, copy_X=True, fit_intercept=True,\n",
    "            max_iter=1000, normalize=False, positive=False, precompute=False,\n",
    "            random_state=None, selection='cyclic', tol=0.0001, warm_start=False)}\n",
    "\n",
    "- Train Score: 0.67984771425263202\n",
    "- Test Score: 0.76176931281102533\n",
    "\n",
    "In looking at the scores, the model did not train as well on the renovatable features compared to the fixed features. However, there was enough variance in the model (not overfit to the training data) such that the test data returned a better R^2 score."
   ]
  }
 ],
 "metadata": {
  "kernelspec": {
   "display_name": "Python 3",
   "language": "python",
   "name": "python3"
  },
  "language_info": {
   "codemirror_mode": {
    "name": "ipython",
    "version": 3
   },
   "file_extension": ".py",
   "mimetype": "text/x-python",
   "name": "python",
   "nbconvert_exporter": "python",
   "pygments_lexer": "ipython3",
   "version": "3.6.2"
  }
 },
 "nbformat": 4,
 "nbformat_minor": 2
}
