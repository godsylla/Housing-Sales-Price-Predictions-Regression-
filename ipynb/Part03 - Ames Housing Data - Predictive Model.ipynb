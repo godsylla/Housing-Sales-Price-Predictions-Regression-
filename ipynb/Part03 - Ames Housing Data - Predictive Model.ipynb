{
 "cells": [
  {
   "cell_type": "markdown",
   "metadata": {},
   "source": [
    "# Regression and Classification with the Ames Housing Data\n",
    "\n",
    "---\n",
    "\n",
    "## Premise: \n",
    "I have just joined a new \"full stack\" real estate company in Ames, Iowa. The strategy of the firm is two-fold:\n",
    "- Own the entire process from the purchase of the land all the way to sale of the house, and anything in between.\n",
    "- Use statistical analysis to optimize investment and maximize return.\n",
    "\n",
    "The company is still small, and though investment is substantial the short-term goals of the company are more oriented towards purchasing existing houses and flipping them as opposed to constructing entirely new houses. That being said, the company has access to a large construction workforce operating at rock-bottom prices.\n",
    "\n",
    "This project uses the [Ames housing data recently made available on kaggle](https://www.kaggle.com/c/house-prices-advanced-regression-techniques)."
   ]
  },
  {
   "cell_type": "markdown",
   "metadata": {},
   "source": [
    "## Data:\n",
    "The full description of the data features can be found in a separate file:\n",
    "\n",
    "    housing.csv\n",
    "    data_description.txt\n",
    "\n",
    "## Objective:\n",
    "1. Develop an algorithm to estimate the value of the residential homes based on fixed characteristics (those that are not considered easy to renovate).\n",
    "2. Identify characteristics of homes that the company can cost-effectively change/renovate with their construction team.\n",
    "3. Evaluate the mean dollar value of different renovations.\n",
    "\n",
    "Use the information to buy homes that are likely to sell for more than the initial purchase.\n",
    "\n",
    "## Process:\n",
    "1. Perform any cleaning, feature engineering, and EDA you deem necessary.\n",
    "- Be sure to remove any houses that are not residential from the dataset.\n",
    "- Identify **fixed** features that can predict price.\n",
    "- Train a model on pre-2010 data and evaluate its performance on the 2010 houses.\n",
    "- Characterize and evaluate the model. (How does it perform and what are the best estimates of price?)\n",
    "\n",
    "## Citations:\n",
    "- http://www.remodeling.hw.net/cost-vs-value/2010/west-north-central/des-moines-ia/\n",
    "- http://cdnassets.hw.net/b6/3d/047accdd4174a4965051631d7900/cvv-2010-2011-professional-desmoinesia.pdf"
   ]
  },
  {
   "cell_type": "code",
   "execution_count": 1,
   "metadata": {
    "collapsed": true
   },
   "outputs": [],
   "source": [
    "!pip install display --quiet"
   ]
  },
  {
   "cell_type": "code",
   "execution_count": 2,
   "metadata": {
    "collapsed": true
   },
   "outputs": [],
   "source": [
    "import sys\n",
    "import numpy as np, pandas as pd\n",
    "import scipy.stats as stats\n",
    "import matplotlib.pyplot as plt, seaborn as sns\n",
    "\n",
    "sns.set_style('whitegrid')\n",
    "\n",
    "%config InlineBackend.figure_format = 'retina'\n",
    "%matplotlib inline"
   ]
  },
  {
   "cell_type": "markdown",
   "metadata": {},
   "source": [
    "### Load and Inspect the Data"
   ]
  },
  {
   "cell_type": "code",
   "execution_count": 3,
   "metadata": {
    "collapsed": true
   },
   "outputs": [],
   "source": [
    "from os import chdir"
   ]
  },
  {
   "cell_type": "code",
   "execution_count": 4,
   "metadata": {
    "scrolled": true
   },
   "outputs": [
    {
     "data": {
      "text/plain": [
       "'/home/jovyan/DSI/DSI_Plus_1_Curriculum/project-three/project-three/ipynb'"
      ]
     },
     "execution_count": 4,
     "metadata": {},
     "output_type": "execute_result"
    }
   ],
   "source": [
    "pwd"
   ]
  },
  {
   "cell_type": "code",
   "execution_count": 5,
   "metadata": {
    "collapsed": true
   },
   "outputs": [],
   "source": [
    "chdir('../')"
   ]
  },
  {
   "cell_type": "code",
   "execution_count": 6,
   "metadata": {
    "collapsed": true
   },
   "outputs": [],
   "source": [
    "from library import functions as fy"
   ]
  },
  {
   "cell_type": "code",
   "execution_count": 7,
   "metadata": {},
   "outputs": [
    {
     "data": {
      "text/plain": [
       "(1221, 146)"
      ]
     },
     "execution_count": 7,
     "metadata": {},
     "output_type": "execute_result"
    }
   ],
   "source": [
    "X_train = pd.read_pickle('./assets/X_train.p')\n",
    "X_train.shape"
   ]
  },
  {
   "cell_type": "code",
   "execution_count": 8,
   "metadata": {},
   "outputs": [
    {
     "data": {
      "text/plain": [
       "(164, 146)"
      ]
     },
     "execution_count": 8,
     "metadata": {},
     "output_type": "execute_result"
    }
   ],
   "source": [
    "X_test = pd.read_pickle('./assets/X_test.p')\n",
    "X_test.shape"
   ]
  },
  {
   "cell_type": "code",
   "execution_count": 9,
   "metadata": {
    "collapsed": true
   },
   "outputs": [],
   "source": [
    "import pickle"
   ]
  },
  {
   "cell_type": "code",
   "execution_count": 10,
   "metadata": {},
   "outputs": [
    {
     "data": {
      "text/plain": [
       "(164,)"
      ]
     },
     "execution_count": 10,
     "metadata": {},
     "output_type": "execute_result"
    }
   ],
   "source": [
    "y_test = pickle.load(open('./y_test.p', 'rb'))\n",
    "y_test.shape"
   ]
  },
  {
   "cell_type": "code",
   "execution_count": 11,
   "metadata": {},
   "outputs": [
    {
     "data": {
      "text/plain": [
       "(1221,)"
      ]
     },
     "execution_count": 11,
     "metadata": {},
     "output_type": "execute_result"
    }
   ],
   "source": [
    "y_train = pickle.load(open('./y_train.p', 'rb'))\n",
    "y_train.shape"
   ]
  },
  {
   "cell_type": "code",
   "execution_count": 12,
   "metadata": {},
   "outputs": [
    {
     "name": "stdout",
     "output_type": "stream",
     "text": [
      "<class 'pandas.core.frame.DataFrame'>\n",
      "Int64Index: 1221 entries, 0 to 1459\n",
      "Columns: 146 entries, LotFrontage to SaleCondition_Partial\n",
      "dtypes: float64(2), int64(18), uint8(126)\n",
      "memory usage: 350.6 KB\n"
     ]
    }
   ],
   "source": [
    "X_train.info()"
   ]
  },
  {
   "cell_type": "markdown",
   "metadata": {},
   "source": [
    "With 141 features, run a feature-selection model to determine which features are the best predictors for `SalePrice`."
   ]
  },
  {
   "cell_type": "code",
   "execution_count": 23,
   "metadata": {
    "collapsed": true
   },
   "outputs": [],
   "source": [
    "from sklearn.preprocessing import StandardScaler\n",
    "from sklearn.model_selection import GridSearchCV, ShuffleSplit\n",
    "from sklearn.feature_selection import SelectKBest, SelectFromModel, f_regression\n",
    "from sklearn.linear_model import Lasso, ElasticNet, Ridge\n",
    "from sklearn.ensemble import RandomForestRegressor\n",
    "from sklearn.pipeline import Pipeline"
   ]
  },
  {
   "cell_type": "code",
   "execution_count": 25,
   "metadata": {},
   "outputs": [],
   "source": [
    "np.random.seed(42)"
   ]
  },
  {
   "cell_type": "code",
   "execution_count": 33,
   "metadata": {},
   "outputs": [],
   "source": [
    "rfr_pipe = Pipeline([\n",
    "    ('skb', SelectKBest(score_func=f_regression)),\n",
    "    ('scaler', StandardScaler()),\n",
    "    ('sfm', SelectFromModel(Lasso())),\n",
    "    ('rfr', RandomForestRegressor(n_jobs=-1)),\n",
    "])"
   ]
  },
  {
   "cell_type": "code",
   "execution_count": 102,
   "metadata": {
    "collapsed": true
   },
   "outputs": [],
   "source": [
    "rfr_param = {\n",
    "    'skb__k' : [75, 60, 50],\n",
    "    'sfm__estimator' : [Lasso(alpha=a) for a in np.linspace(60,100,5)],\n",
    "    'rfr__n_estimators' : [25, 35, 50],\n",
    "    'rfr__max_depth' : [175, 200, 225],\n",
    "}"
   ]
  },
  {
   "cell_type": "code",
   "execution_count": 103,
   "metadata": {},
   "outputs": [],
   "source": [
    "rfr_gs = GridSearchCV(rfr_pipe, param_grid=rfr_param, cv=ShuffleSplit(n_splits=5), n_jobs=-1)"
   ]
  },
  {
   "cell_type": "code",
   "execution_count": 172,
   "metadata": {},
   "outputs": [
    {
     "ename": "AttributeError",
     "evalue": "'GridSearchCV' object has no attribute 'fit_transform'",
     "output_type": "error",
     "traceback": [
      "\u001b[0;31m---------------------------------------------------------------------------\u001b[0m",
      "\u001b[0;31mAttributeError\u001b[0m                            Traceback (most recent call last)",
      "\u001b[0;32m<ipython-input-172-96e43d5a2f2f>\u001b[0m in \u001b[0;36m<module>\u001b[0;34m()\u001b[0m\n\u001b[0;32m----> 1\u001b[0;31m \u001b[0mrfr_gs\u001b[0m\u001b[0;34m.\u001b[0m\u001b[0mfit_transform\u001b[0m\u001b[0;34m(\u001b[0m\u001b[0mX_train\u001b[0m\u001b[0;34m,\u001b[0m \u001b[0my_train\u001b[0m\u001b[0;34m)\u001b[0m\u001b[0;34m\u001b[0m\u001b[0m\n\u001b[0m",
      "\u001b[0;31mAttributeError\u001b[0m: 'GridSearchCV' object has no attribute 'fit_transform'"
     ]
    }
   ],
   "source": [
    "rfr_gs.fit(X_train, y_train)"
   ]
  },
  {
   "cell_type": "code",
   "execution_count": 105,
   "metadata": {
    "scrolled": false
   },
   "outputs": [
    {
     "data": {
      "text/html": [
       "<div>\n",
       "<table border=\"1\" class=\"dataframe\">\n",
       "  <thead>\n",
       "    <tr style=\"text-align: right;\">\n",
       "      <th></th>\n",
       "      <th>60</th>\n",
       "      <th>3</th>\n",
       "      <th>50</th>\n",
       "      <th>58</th>\n",
       "      <th>40</th>\n",
       "      <th>120</th>\n",
       "      <th>32</th>\n",
       "      <th>35</th>\n",
       "      <th>103</th>\n",
       "      <th>88</th>\n",
       "      <th>...</th>\n",
       "      <th>84</th>\n",
       "      <th>31</th>\n",
       "      <th>68</th>\n",
       "      <th>2</th>\n",
       "      <th>61</th>\n",
       "      <th>24</th>\n",
       "      <th>108</th>\n",
       "      <th>1</th>\n",
       "      <th>93</th>\n",
       "      <th>49</th>\n",
       "    </tr>\n",
       "  </thead>\n",
       "  <tbody>\n",
       "    <tr>\n",
       "      <th>mean_fit_time</th>\n",
       "      <td>0.516865</td>\n",
       "      <td>0.427469</td>\n",
       "      <td>0.39918</td>\n",
       "      <td>0.38372</td>\n",
       "      <td>0.589892</td>\n",
       "      <td>0.603894</td>\n",
       "      <td>0.563102</td>\n",
       "      <td>0.572307</td>\n",
       "      <td>0.418721</td>\n",
       "      <td>0.62332</td>\n",
       "      <td>...</td>\n",
       "      <td>0.662216</td>\n",
       "      <td>0.613194</td>\n",
       "      <td>0.49073</td>\n",
       "      <td>0.357602</td>\n",
       "      <td>0.470174</td>\n",
       "      <td>0.48128</td>\n",
       "      <td>0.417008</td>\n",
       "      <td>0.431252</td>\n",
       "      <td>0.390284</td>\n",
       "      <td>0.370319</td>\n",
       "    </tr>\n",
       "    <tr>\n",
       "      <th>mean_score_time</th>\n",
       "      <td>0.102159</td>\n",
       "      <td>0.101996</td>\n",
       "      <td>0.102446</td>\n",
       "      <td>0.102162</td>\n",
       "      <td>0.104037</td>\n",
       "      <td>0.102697</td>\n",
       "      <td>0.104437</td>\n",
       "      <td>0.102229</td>\n",
       "      <td>0.102143</td>\n",
       "      <td>0.102055</td>\n",
       "      <td>...</td>\n",
       "      <td>0.103671</td>\n",
       "      <td>0.102731</td>\n",
       "      <td>0.104644</td>\n",
       "      <td>0.102037</td>\n",
       "      <td>0.102845</td>\n",
       "      <td>0.102628</td>\n",
       "      <td>0.105528</td>\n",
       "      <td>0.102063</td>\n",
       "      <td>0.106175</td>\n",
       "      <td>0.102029</td>\n",
       "    </tr>\n",
       "    <tr>\n",
       "      <th>mean_test_score</th>\n",
       "      <td>0.863658</td>\n",
       "      <td>0.856757</td>\n",
       "      <td>0.856275</td>\n",
       "      <td>0.855745</td>\n",
       "      <td>0.855209</td>\n",
       "      <td>0.854588</td>\n",
       "      <td>0.854413</td>\n",
       "      <td>0.854366</td>\n",
       "      <td>0.853746</td>\n",
       "      <td>0.85348</td>\n",
       "      <td>...</td>\n",
       "      <td>0.832042</td>\n",
       "      <td>0.831563</td>\n",
       "      <td>0.830095</td>\n",
       "      <td>0.828783</td>\n",
       "      <td>0.827928</td>\n",
       "      <td>0.827436</td>\n",
       "      <td>0.827223</td>\n",
       "      <td>0.827077</td>\n",
       "      <td>0.825478</td>\n",
       "      <td>0.82434</td>\n",
       "    </tr>\n",
       "    <tr>\n",
       "      <th>mean_train_score</th>\n",
       "      <td>0.974531</td>\n",
       "      <td>0.974751</td>\n",
       "      <td>0.971454</td>\n",
       "      <td>0.971884</td>\n",
       "      <td>0.975864</td>\n",
       "      <td>0.974029</td>\n",
       "      <td>0.975133</td>\n",
       "      <td>0.974758</td>\n",
       "      <td>0.973071</td>\n",
       "      <td>0.975231</td>\n",
       "      <td>...</td>\n",
       "      <td>0.973782</td>\n",
       "      <td>0.97431</td>\n",
       "      <td>0.972493</td>\n",
       "      <td>0.973238</td>\n",
       "      <td>0.973755</td>\n",
       "      <td>0.973437</td>\n",
       "      <td>0.971827</td>\n",
       "      <td>0.971889</td>\n",
       "      <td>0.973258</td>\n",
       "      <td>0.971941</td>\n",
       "    </tr>\n",
       "    <tr>\n",
       "      <th>param_rfr__max_depth</th>\n",
       "      <td>200</td>\n",
       "      <td>175</td>\n",
       "      <td>200</td>\n",
       "      <td>200</td>\n",
       "      <td>175</td>\n",
       "      <td>225</td>\n",
       "      <td>175</td>\n",
       "      <td>175</td>\n",
       "      <td>225</td>\n",
       "      <td>200</td>\n",
       "      <td>...</td>\n",
       "      <td>200</td>\n",
       "      <td>175</td>\n",
       "      <td>200</td>\n",
       "      <td>175</td>\n",
       "      <td>200</td>\n",
       "      <td>175</td>\n",
       "      <td>225</td>\n",
       "      <td>175</td>\n",
       "      <td>225</td>\n",
       "      <td>200</td>\n",
       "    </tr>\n",
       "    <tr>\n",
       "      <th>param_rfr__n_estimators</th>\n",
       "      <td>35</td>\n",
       "      <td>25</td>\n",
       "      <td>25</td>\n",
       "      <td>25</td>\n",
       "      <td>50</td>\n",
       "      <td>50</td>\n",
       "      <td>50</td>\n",
       "      <td>50</td>\n",
       "      <td>25</td>\n",
       "      <td>50</td>\n",
       "      <td>...</td>\n",
       "      <td>50</td>\n",
       "      <td>50</td>\n",
       "      <td>35</td>\n",
       "      <td>25</td>\n",
       "      <td>35</td>\n",
       "      <td>35</td>\n",
       "      <td>35</td>\n",
       "      <td>25</td>\n",
       "      <td>25</td>\n",
       "      <td>25</td>\n",
       "    </tr>\n",
       "    <tr>\n",
       "      <th>param_sfm__estimator</th>\n",
       "      <td>Lasso(alpha=60.0, copy_X=True, fit_intercept=T...</td>\n",
       "      <td>Lasso(alpha=70.0, copy_X=True, fit_intercept=T...</td>\n",
       "      <td>Lasso(alpha=70.0, copy_X=True, fit_intercept=T...</td>\n",
       "      <td>Lasso(alpha=100.0, copy_X=True, fit_intercept=...</td>\n",
       "      <td>Lasso(alpha=90.0, copy_X=True, fit_intercept=T...</td>\n",
       "      <td>Lasso(alpha=60.0, copy_X=True, fit_intercept=T...</td>\n",
       "      <td>Lasso(alpha=60.0, copy_X=True, fit_intercept=T...</td>\n",
       "      <td>Lasso(alpha=70.0, copy_X=True, fit_intercept=T...</td>\n",
       "      <td>Lasso(alpha=100.0, copy_X=True, fit_intercept=...</td>\n",
       "      <td>Lasso(alpha=100.0, copy_X=True, fit_intercept=...</td>\n",
       "      <td>...</td>\n",
       "      <td>Lasso(alpha=90.0, copy_X=True, fit_intercept=T...</td>\n",
       "      <td>Lasso(alpha=60.0, copy_X=True, fit_intercept=T...</td>\n",
       "      <td>Lasso(alpha=80.0, copy_X=True, fit_intercept=T...</td>\n",
       "      <td>Lasso(alpha=60.0, copy_X=True, fit_intercept=T...</td>\n",
       "      <td>Lasso(alpha=60.0, copy_X=True, fit_intercept=T...</td>\n",
       "      <td>Lasso(alpha=90.0, copy_X=True, fit_intercept=T...</td>\n",
       "      <td>Lasso(alpha=70.0, copy_X=True, fit_intercept=T...</td>\n",
       "      <td>Lasso(alpha=60.0, copy_X=True, fit_intercept=T...</td>\n",
       "      <td>Lasso(alpha=70.0, copy_X=True, fit_intercept=T...</td>\n",
       "      <td>Lasso(alpha=70.0, copy_X=True, fit_intercept=T...</td>\n",
       "    </tr>\n",
       "    <tr>\n",
       "      <th>param_skb__k</th>\n",
       "      <td>75</td>\n",
       "      <td>75</td>\n",
       "      <td>50</td>\n",
       "      <td>60</td>\n",
       "      <td>60</td>\n",
       "      <td>75</td>\n",
       "      <td>50</td>\n",
       "      <td>50</td>\n",
       "      <td>60</td>\n",
       "      <td>60</td>\n",
       "      <td>...</td>\n",
       "      <td>75</td>\n",
       "      <td>60</td>\n",
       "      <td>50</td>\n",
       "      <td>50</td>\n",
       "      <td>60</td>\n",
       "      <td>75</td>\n",
       "      <td>75</td>\n",
       "      <td>60</td>\n",
       "      <td>75</td>\n",
       "      <td>60</td>\n",
       "    </tr>\n",
       "    <tr>\n",
       "      <th>params</th>\n",
       "      <td>{'rfr__max_depth': 200, 'rfr__n_estimators': 3...</td>\n",
       "      <td>{'rfr__max_depth': 175, 'rfr__n_estimators': 2...</td>\n",
       "      <td>{'rfr__max_depth': 200, 'rfr__n_estimators': 2...</td>\n",
       "      <td>{'rfr__max_depth': 200, 'rfr__n_estimators': 2...</td>\n",
       "      <td>{'rfr__max_depth': 175, 'rfr__n_estimators': 5...</td>\n",
       "      <td>{'rfr__max_depth': 225, 'rfr__n_estimators': 5...</td>\n",
       "      <td>{'rfr__max_depth': 175, 'rfr__n_estimators': 5...</td>\n",
       "      <td>{'rfr__max_depth': 175, 'rfr__n_estimators': 5...</td>\n",
       "      <td>{'rfr__max_depth': 225, 'rfr__n_estimators': 2...</td>\n",
       "      <td>{'rfr__max_depth': 200, 'rfr__n_estimators': 5...</td>\n",
       "      <td>...</td>\n",
       "      <td>{'rfr__max_depth': 200, 'rfr__n_estimators': 5...</td>\n",
       "      <td>{'rfr__max_depth': 175, 'rfr__n_estimators': 5...</td>\n",
       "      <td>{'rfr__max_depth': 200, 'rfr__n_estimators': 3...</td>\n",
       "      <td>{'rfr__max_depth': 175, 'rfr__n_estimators': 2...</td>\n",
       "      <td>{'rfr__max_depth': 200, 'rfr__n_estimators': 3...</td>\n",
       "      <td>{'rfr__max_depth': 175, 'rfr__n_estimators': 3...</td>\n",
       "      <td>{'rfr__max_depth': 225, 'rfr__n_estimators': 3...</td>\n",
       "      <td>{'rfr__max_depth': 175, 'rfr__n_estimators': 2...</td>\n",
       "      <td>{'rfr__max_depth': 225, 'rfr__n_estimators': 2...</td>\n",
       "      <td>{'rfr__max_depth': 200, 'rfr__n_estimators': 2...</td>\n",
       "    </tr>\n",
       "    <tr>\n",
       "      <th>rank_test_score</th>\n",
       "      <td>1</td>\n",
       "      <td>2</td>\n",
       "      <td>3</td>\n",
       "      <td>4</td>\n",
       "      <td>5</td>\n",
       "      <td>6</td>\n",
       "      <td>7</td>\n",
       "      <td>8</td>\n",
       "      <td>9</td>\n",
       "      <td>10</td>\n",
       "      <td>...</td>\n",
       "      <td>126</td>\n",
       "      <td>127</td>\n",
       "      <td>128</td>\n",
       "      <td>129</td>\n",
       "      <td>130</td>\n",
       "      <td>131</td>\n",
       "      <td>132</td>\n",
       "      <td>133</td>\n",
       "      <td>134</td>\n",
       "      <td>135</td>\n",
       "    </tr>\n",
       "    <tr>\n",
       "      <th>split0_test_score</th>\n",
       "      <td>0.88808</td>\n",
       "      <td>0.853111</td>\n",
       "      <td>0.854957</td>\n",
       "      <td>0.873562</td>\n",
       "      <td>0.877323</td>\n",
       "      <td>0.864046</td>\n",
       "      <td>0.860981</td>\n",
       "      <td>0.881144</td>\n",
       "      <td>0.858469</td>\n",
       "      <td>0.869027</td>\n",
       "      <td>...</td>\n",
       "      <td>0.860558</td>\n",
       "      <td>0.873161</td>\n",
       "      <td>0.858999</td>\n",
       "      <td>0.865013</td>\n",
       "      <td>0.872579</td>\n",
       "      <td>0.863909</td>\n",
       "      <td>0.858349</td>\n",
       "      <td>0.85199</td>\n",
       "      <td>0.850546</td>\n",
       "      <td>0.863986</td>\n",
       "    </tr>\n",
       "    <tr>\n",
       "      <th>split0_train_score</th>\n",
       "      <td>0.972758</td>\n",
       "      <td>0.973026</td>\n",
       "      <td>0.969409</td>\n",
       "      <td>0.965324</td>\n",
       "      <td>0.974553</td>\n",
       "      <td>0.971684</td>\n",
       "      <td>0.973428</td>\n",
       "      <td>0.972819</td>\n",
       "      <td>0.974267</td>\n",
       "      <td>0.975081</td>\n",
       "      <td>...</td>\n",
       "      <td>0.974089</td>\n",
       "      <td>0.971934</td>\n",
       "      <td>0.970132</td>\n",
       "      <td>0.971906</td>\n",
       "      <td>0.973919</td>\n",
       "      <td>0.973816</td>\n",
       "      <td>0.973196</td>\n",
       "      <td>0.971737</td>\n",
       "      <td>0.975874</td>\n",
       "      <td>0.972288</td>\n",
       "    </tr>\n",
       "    <tr>\n",
       "      <th>split1_test_score</th>\n",
       "      <td>0.84036</td>\n",
       "      <td>0.846475</td>\n",
       "      <td>0.853137</td>\n",
       "      <td>0.840235</td>\n",
       "      <td>0.829601</td>\n",
       "      <td>0.843469</td>\n",
       "      <td>0.838998</td>\n",
       "      <td>0.82838</td>\n",
       "      <td>0.844762</td>\n",
       "      <td>0.839782</td>\n",
       "      <td>...</td>\n",
       "      <td>0.836304</td>\n",
       "      <td>0.829585</td>\n",
       "      <td>0.833037</td>\n",
       "      <td>0.81563</td>\n",
       "      <td>0.825681</td>\n",
       "      <td>0.829327</td>\n",
       "      <td>0.837163</td>\n",
       "      <td>0.8393</td>\n",
       "      <td>0.832406</td>\n",
       "      <td>0.844785</td>\n",
       "    </tr>\n",
       "    <tr>\n",
       "      <th>split1_train_score</th>\n",
       "      <td>0.975825</td>\n",
       "      <td>0.973493</td>\n",
       "      <td>0.974933</td>\n",
       "      <td>0.971174</td>\n",
       "      <td>0.97767</td>\n",
       "      <td>0.977</td>\n",
       "      <td>0.974623</td>\n",
       "      <td>0.978166</td>\n",
       "      <td>0.976824</td>\n",
       "      <td>0.97421</td>\n",
       "      <td>...</td>\n",
       "      <td>0.975875</td>\n",
       "      <td>0.980479</td>\n",
       "      <td>0.975761</td>\n",
       "      <td>0.974229</td>\n",
       "      <td>0.97807</td>\n",
       "      <td>0.979144</td>\n",
       "      <td>0.974623</td>\n",
       "      <td>0.973549</td>\n",
       "      <td>0.973976</td>\n",
       "      <td>0.97454</td>\n",
       "    </tr>\n",
       "    <tr>\n",
       "      <th>split2_test_score</th>\n",
       "      <td>0.880842</td>\n",
       "      <td>0.868027</td>\n",
       "      <td>0.875704</td>\n",
       "      <td>0.873445</td>\n",
       "      <td>0.877597</td>\n",
       "      <td>0.871409</td>\n",
       "      <td>0.877463</td>\n",
       "      <td>0.880549</td>\n",
       "      <td>0.868575</td>\n",
       "      <td>0.882678</td>\n",
       "      <td>...</td>\n",
       "      <td>0.876314</td>\n",
       "      <td>0.865428</td>\n",
       "      <td>0.86901</td>\n",
       "      <td>0.852781</td>\n",
       "      <td>0.869592</td>\n",
       "      <td>0.873153</td>\n",
       "      <td>0.84707</td>\n",
       "      <td>0.857512</td>\n",
       "      <td>0.86414</td>\n",
       "      <td>0.870473</td>\n",
       "    </tr>\n",
       "    <tr>\n",
       "      <th>split2_train_score</th>\n",
       "      <td>0.976668</td>\n",
       "      <td>0.975627</td>\n",
       "      <td>0.970194</td>\n",
       "      <td>0.978851</td>\n",
       "      <td>0.976577</td>\n",
       "      <td>0.974999</td>\n",
       "      <td>0.977336</td>\n",
       "      <td>0.977177</td>\n",
       "      <td>0.973485</td>\n",
       "      <td>0.976727</td>\n",
       "      <td>...</td>\n",
       "      <td>0.976213</td>\n",
       "      <td>0.974625</td>\n",
       "      <td>0.973067</td>\n",
       "      <td>0.97713</td>\n",
       "      <td>0.975188</td>\n",
       "      <td>0.974403</td>\n",
       "      <td>0.969178</td>\n",
       "      <td>0.974974</td>\n",
       "      <td>0.976689</td>\n",
       "      <td>0.972091</td>\n",
       "    </tr>\n",
       "    <tr>\n",
       "      <th>split3_test_score</th>\n",
       "      <td>0.862371</td>\n",
       "      <td>0.861094</td>\n",
       "      <td>0.845503</td>\n",
       "      <td>0.833685</td>\n",
       "      <td>0.843778</td>\n",
       "      <td>0.870021</td>\n",
       "      <td>0.849231</td>\n",
       "      <td>0.838089</td>\n",
       "      <td>0.836098</td>\n",
       "      <td>0.839277</td>\n",
       "      <td>...</td>\n",
       "      <td>0.832691</td>\n",
       "      <td>0.799097</td>\n",
       "      <td>0.764983</td>\n",
       "      <td>0.791759</td>\n",
       "      <td>0.772421</td>\n",
       "      <td>0.775749</td>\n",
       "      <td>0.78579</td>\n",
       "      <td>0.804231</td>\n",
       "      <td>0.782413</td>\n",
       "      <td>0.7571</td>\n",
       "    </tr>\n",
       "    <tr>\n",
       "      <th>split3_train_score</th>\n",
       "      <td>0.973056</td>\n",
       "      <td>0.976029</td>\n",
       "      <td>0.969426</td>\n",
       "      <td>0.973177</td>\n",
       "      <td>0.974624</td>\n",
       "      <td>0.972674</td>\n",
       "      <td>0.975606</td>\n",
       "      <td>0.973394</td>\n",
       "      <td>0.970407</td>\n",
       "      <td>0.976999</td>\n",
       "      <td>...</td>\n",
       "      <td>0.970447</td>\n",
       "      <td>0.973712</td>\n",
       "      <td>0.97107</td>\n",
       "      <td>0.97004</td>\n",
       "      <td>0.970097</td>\n",
       "      <td>0.968132</td>\n",
       "      <td>0.970116</td>\n",
       "      <td>0.972705</td>\n",
       "      <td>0.968745</td>\n",
       "      <td>0.971139</td>\n",
       "    </tr>\n",
       "    <tr>\n",
       "      <th>split4_test_score</th>\n",
       "      <td>0.846636</td>\n",
       "      <td>0.855076</td>\n",
       "      <td>0.852075</td>\n",
       "      <td>0.8578</td>\n",
       "      <td>0.847747</td>\n",
       "      <td>0.823995</td>\n",
       "      <td>0.845395</td>\n",
       "      <td>0.843671</td>\n",
       "      <td>0.860828</td>\n",
       "      <td>0.836634</td>\n",
       "      <td>...</td>\n",
       "      <td>0.754344</td>\n",
       "      <td>0.790542</td>\n",
       "      <td>0.824448</td>\n",
       "      <td>0.818735</td>\n",
       "      <td>0.799366</td>\n",
       "      <td>0.795043</td>\n",
       "      <td>0.807742</td>\n",
       "      <td>0.782352</td>\n",
       "      <td>0.797888</td>\n",
       "      <td>0.785356</td>\n",
       "    </tr>\n",
       "    <tr>\n",
       "      <th>split4_train_score</th>\n",
       "      <td>0.974347</td>\n",
       "      <td>0.975582</td>\n",
       "      <td>0.973305</td>\n",
       "      <td>0.970891</td>\n",
       "      <td>0.975893</td>\n",
       "      <td>0.973787</td>\n",
       "      <td>0.97467</td>\n",
       "      <td>0.972235</td>\n",
       "      <td>0.97037</td>\n",
       "      <td>0.973138</td>\n",
       "      <td>...</td>\n",
       "      <td>0.972286</td>\n",
       "      <td>0.9708</td>\n",
       "      <td>0.972437</td>\n",
       "      <td>0.972885</td>\n",
       "      <td>0.971498</td>\n",
       "      <td>0.97169</td>\n",
       "      <td>0.972021</td>\n",
       "      <td>0.966479</td>\n",
       "      <td>0.971009</td>\n",
       "      <td>0.969649</td>\n",
       "    </tr>\n",
       "    <tr>\n",
       "      <th>std_fit_time</th>\n",
       "      <td>0.0301677</td>\n",
       "      <td>0.0354224</td>\n",
       "      <td>0.0163434</td>\n",
       "      <td>0.0390573</td>\n",
       "      <td>0.0470465</td>\n",
       "      <td>0.0495224</td>\n",
       "      <td>0.0293697</td>\n",
       "      <td>0.0300502</td>\n",
       "      <td>0.0294737</td>\n",
       "      <td>0.0452038</td>\n",
       "      <td>...</td>\n",
       "      <td>0.0544059</td>\n",
       "      <td>0.036091</td>\n",
       "      <td>0.0503764</td>\n",
       "      <td>0.0431841</td>\n",
       "      <td>0.0510152</td>\n",
       "      <td>0.0453383</td>\n",
       "      <td>0.0372624</td>\n",
       "      <td>0.0241449</td>\n",
       "      <td>0.0336776</td>\n",
       "      <td>0.046442</td>\n",
       "    </tr>\n",
       "    <tr>\n",
       "      <th>std_score_time</th>\n",
       "      <td>0.000149951</td>\n",
       "      <td>0.000118567</td>\n",
       "      <td>0.000795943</td>\n",
       "      <td>8.12234e-05</td>\n",
       "      <td>0.00250753</td>\n",
       "      <td>0.000793903</td>\n",
       "      <td>0.00229355</td>\n",
       "      <td>0.000174491</td>\n",
       "      <td>4.04658e-05</td>\n",
       "      <td>0.000112807</td>\n",
       "      <td>...</td>\n",
       "      <td>0.00312399</td>\n",
       "      <td>0.000859585</td>\n",
       "      <td>0.00393099</td>\n",
       "      <td>0.000136917</td>\n",
       "      <td>0.00144747</td>\n",
       "      <td>0.000684778</td>\n",
       "      <td>0.00292202</td>\n",
       "      <td>0.000102126</td>\n",
       "      <td>0.00507869</td>\n",
       "      <td>8.96399e-05</td>\n",
       "    </tr>\n",
       "    <tr>\n",
       "      <th>std_test_score</th>\n",
       "      <td>0.0185794</td>\n",
       "      <td>0.00731651</td>\n",
       "      <td>0.0102248</td>\n",
       "      <td>0.0165058</td>\n",
       "      <td>0.0191435</td>\n",
       "      <td>0.0182764</td>\n",
       "      <td>0.0135664</td>\n",
       "      <td>0.0221685</td>\n",
       "      <td>0.0117006</td>\n",
       "      <td>0.0188009</td>\n",
       "      <td>...</td>\n",
       "      <td>0.0420209</td>\n",
       "      <td>0.0335198</td>\n",
       "      <td>0.036414</td>\n",
       "      <td>0.0265827</td>\n",
       "      <td>0.0390676</td>\n",
       "      <td>0.0378016</td>\n",
       "      <td>0.0266751</td>\n",
       "      <td>0.0290469</td>\n",
       "      <td>0.0309417</td>\n",
       "      <td>0.0450755</td>\n",
       "    </tr>\n",
       "    <tr>\n",
       "      <th>std_train_score</th>\n",
       "      <td>0.00152264</td>\n",
       "      <td>0.00123687</td>\n",
       "      <td>0.00225442</td>\n",
       "      <td>0.00435281</td>\n",
       "      <td>0.00118557</td>\n",
       "      <td>0.00185271</td>\n",
       "      <td>0.00130058</td>\n",
       "      <td>0.00242714</td>\n",
       "      <td>0.00245253</td>\n",
       "      <td>0.00147023</td>\n",
       "      <td>...</td>\n",
       "      <td>0.00217913</td>\n",
       "      <td>0.00336098</td>\n",
       "      <td>0.00192938</td>\n",
       "      <td>0.00237726</td>\n",
       "      <td>0.00279912</td>\n",
       "      <td>0.00360115</td>\n",
       "      <td>0.00198369</td>\n",
       "      <td>0.00290592</td>\n",
       "      <td>0.002985</td>\n",
       "      <td>0.00159969</td>\n",
       "    </tr>\n",
       "  </tbody>\n",
       "</table>\n",
       "<p>24 rows × 135 columns</p>\n",
       "</div>"
      ],
      "text/plain": [
       "                                                                       60   \\\n",
       "mean_fit_time                                                     0.516865   \n",
       "mean_score_time                                                   0.102159   \n",
       "mean_test_score                                                   0.863658   \n",
       "mean_train_score                                                  0.974531   \n",
       "param_rfr__max_depth                                                   200   \n",
       "param_rfr__n_estimators                                                 35   \n",
       "param_sfm__estimator     Lasso(alpha=60.0, copy_X=True, fit_intercept=T...   \n",
       "param_skb__k                                                            75   \n",
       "params                   {'rfr__max_depth': 200, 'rfr__n_estimators': 3...   \n",
       "rank_test_score                                                          1   \n",
       "split0_test_score                                                  0.88808   \n",
       "split0_train_score                                                0.972758   \n",
       "split1_test_score                                                  0.84036   \n",
       "split1_train_score                                                0.975825   \n",
       "split2_test_score                                                 0.880842   \n",
       "split2_train_score                                                0.976668   \n",
       "split3_test_score                                                 0.862371   \n",
       "split3_train_score                                                0.973056   \n",
       "split4_test_score                                                 0.846636   \n",
       "split4_train_score                                                0.974347   \n",
       "std_fit_time                                                     0.0301677   \n",
       "std_score_time                                                 0.000149951   \n",
       "std_test_score                                                   0.0185794   \n",
       "std_train_score                                                 0.00152264   \n",
       "\n",
       "                                                                       3    \\\n",
       "mean_fit_time                                                     0.427469   \n",
       "mean_score_time                                                   0.101996   \n",
       "mean_test_score                                                   0.856757   \n",
       "mean_train_score                                                  0.974751   \n",
       "param_rfr__max_depth                                                   175   \n",
       "param_rfr__n_estimators                                                 25   \n",
       "param_sfm__estimator     Lasso(alpha=70.0, copy_X=True, fit_intercept=T...   \n",
       "param_skb__k                                                            75   \n",
       "params                   {'rfr__max_depth': 175, 'rfr__n_estimators': 2...   \n",
       "rank_test_score                                                          2   \n",
       "split0_test_score                                                 0.853111   \n",
       "split0_train_score                                                0.973026   \n",
       "split1_test_score                                                 0.846475   \n",
       "split1_train_score                                                0.973493   \n",
       "split2_test_score                                                 0.868027   \n",
       "split2_train_score                                                0.975627   \n",
       "split3_test_score                                                 0.861094   \n",
       "split3_train_score                                                0.976029   \n",
       "split4_test_score                                                 0.855076   \n",
       "split4_train_score                                                0.975582   \n",
       "std_fit_time                                                     0.0354224   \n",
       "std_score_time                                                 0.000118567   \n",
       "std_test_score                                                  0.00731651   \n",
       "std_train_score                                                 0.00123687   \n",
       "\n",
       "                                                                       50   \\\n",
       "mean_fit_time                                                      0.39918   \n",
       "mean_score_time                                                   0.102446   \n",
       "mean_test_score                                                   0.856275   \n",
       "mean_train_score                                                  0.971454   \n",
       "param_rfr__max_depth                                                   200   \n",
       "param_rfr__n_estimators                                                 25   \n",
       "param_sfm__estimator     Lasso(alpha=70.0, copy_X=True, fit_intercept=T...   \n",
       "param_skb__k                                                            50   \n",
       "params                   {'rfr__max_depth': 200, 'rfr__n_estimators': 2...   \n",
       "rank_test_score                                                          3   \n",
       "split0_test_score                                                 0.854957   \n",
       "split0_train_score                                                0.969409   \n",
       "split1_test_score                                                 0.853137   \n",
       "split1_train_score                                                0.974933   \n",
       "split2_test_score                                                 0.875704   \n",
       "split2_train_score                                                0.970194   \n",
       "split3_test_score                                                 0.845503   \n",
       "split3_train_score                                                0.969426   \n",
       "split4_test_score                                                 0.852075   \n",
       "split4_train_score                                                0.973305   \n",
       "std_fit_time                                                     0.0163434   \n",
       "std_score_time                                                 0.000795943   \n",
       "std_test_score                                                   0.0102248   \n",
       "std_train_score                                                 0.00225442   \n",
       "\n",
       "                                                                       58   \\\n",
       "mean_fit_time                                                      0.38372   \n",
       "mean_score_time                                                   0.102162   \n",
       "mean_test_score                                                   0.855745   \n",
       "mean_train_score                                                  0.971884   \n",
       "param_rfr__max_depth                                                   200   \n",
       "param_rfr__n_estimators                                                 25   \n",
       "param_sfm__estimator     Lasso(alpha=100.0, copy_X=True, fit_intercept=...   \n",
       "param_skb__k                                                            60   \n",
       "params                   {'rfr__max_depth': 200, 'rfr__n_estimators': 2...   \n",
       "rank_test_score                                                          4   \n",
       "split0_test_score                                                 0.873562   \n",
       "split0_train_score                                                0.965324   \n",
       "split1_test_score                                                 0.840235   \n",
       "split1_train_score                                                0.971174   \n",
       "split2_test_score                                                 0.873445   \n",
       "split2_train_score                                                0.978851   \n",
       "split3_test_score                                                 0.833685   \n",
       "split3_train_score                                                0.973177   \n",
       "split4_test_score                                                   0.8578   \n",
       "split4_train_score                                                0.970891   \n",
       "std_fit_time                                                     0.0390573   \n",
       "std_score_time                                                 8.12234e-05   \n",
       "std_test_score                                                   0.0165058   \n",
       "std_train_score                                                 0.00435281   \n",
       "\n",
       "                                                                       40   \\\n",
       "mean_fit_time                                                     0.589892   \n",
       "mean_score_time                                                   0.104037   \n",
       "mean_test_score                                                   0.855209   \n",
       "mean_train_score                                                  0.975864   \n",
       "param_rfr__max_depth                                                   175   \n",
       "param_rfr__n_estimators                                                 50   \n",
       "param_sfm__estimator     Lasso(alpha=90.0, copy_X=True, fit_intercept=T...   \n",
       "param_skb__k                                                            60   \n",
       "params                   {'rfr__max_depth': 175, 'rfr__n_estimators': 5...   \n",
       "rank_test_score                                                          5   \n",
       "split0_test_score                                                 0.877323   \n",
       "split0_train_score                                                0.974553   \n",
       "split1_test_score                                                 0.829601   \n",
       "split1_train_score                                                 0.97767   \n",
       "split2_test_score                                                 0.877597   \n",
       "split2_train_score                                                0.976577   \n",
       "split3_test_score                                                 0.843778   \n",
       "split3_train_score                                                0.974624   \n",
       "split4_test_score                                                 0.847747   \n",
       "split4_train_score                                                0.975893   \n",
       "std_fit_time                                                     0.0470465   \n",
       "std_score_time                                                  0.00250753   \n",
       "std_test_score                                                   0.0191435   \n",
       "std_train_score                                                 0.00118557   \n",
       "\n",
       "                                                                       120  \\\n",
       "mean_fit_time                                                     0.603894   \n",
       "mean_score_time                                                   0.102697   \n",
       "mean_test_score                                                   0.854588   \n",
       "mean_train_score                                                  0.974029   \n",
       "param_rfr__max_depth                                                   225   \n",
       "param_rfr__n_estimators                                                 50   \n",
       "param_sfm__estimator     Lasso(alpha=60.0, copy_X=True, fit_intercept=T...   \n",
       "param_skb__k                                                            75   \n",
       "params                   {'rfr__max_depth': 225, 'rfr__n_estimators': 5...   \n",
       "rank_test_score                                                          6   \n",
       "split0_test_score                                                 0.864046   \n",
       "split0_train_score                                                0.971684   \n",
       "split1_test_score                                                 0.843469   \n",
       "split1_train_score                                                   0.977   \n",
       "split2_test_score                                                 0.871409   \n",
       "split2_train_score                                                0.974999   \n",
       "split3_test_score                                                 0.870021   \n",
       "split3_train_score                                                0.972674   \n",
       "split4_test_score                                                 0.823995   \n",
       "split4_train_score                                                0.973787   \n",
       "std_fit_time                                                     0.0495224   \n",
       "std_score_time                                                 0.000793903   \n",
       "std_test_score                                                   0.0182764   \n",
       "std_train_score                                                 0.00185271   \n",
       "\n",
       "                                                                       32   \\\n",
       "mean_fit_time                                                     0.563102   \n",
       "mean_score_time                                                   0.104437   \n",
       "mean_test_score                                                   0.854413   \n",
       "mean_train_score                                                  0.975133   \n",
       "param_rfr__max_depth                                                   175   \n",
       "param_rfr__n_estimators                                                 50   \n",
       "param_sfm__estimator     Lasso(alpha=60.0, copy_X=True, fit_intercept=T...   \n",
       "param_skb__k                                                            50   \n",
       "params                   {'rfr__max_depth': 175, 'rfr__n_estimators': 5...   \n",
       "rank_test_score                                                          7   \n",
       "split0_test_score                                                 0.860981   \n",
       "split0_train_score                                                0.973428   \n",
       "split1_test_score                                                 0.838998   \n",
       "split1_train_score                                                0.974623   \n",
       "split2_test_score                                                 0.877463   \n",
       "split2_train_score                                                0.977336   \n",
       "split3_test_score                                                 0.849231   \n",
       "split3_train_score                                                0.975606   \n",
       "split4_test_score                                                 0.845395   \n",
       "split4_train_score                                                 0.97467   \n",
       "std_fit_time                                                     0.0293697   \n",
       "std_score_time                                                  0.00229355   \n",
       "std_test_score                                                   0.0135664   \n",
       "std_train_score                                                 0.00130058   \n",
       "\n",
       "                                                                       35   \\\n",
       "mean_fit_time                                                     0.572307   \n",
       "mean_score_time                                                   0.102229   \n",
       "mean_test_score                                                   0.854366   \n",
       "mean_train_score                                                  0.974758   \n",
       "param_rfr__max_depth                                                   175   \n",
       "param_rfr__n_estimators                                                 50   \n",
       "param_sfm__estimator     Lasso(alpha=70.0, copy_X=True, fit_intercept=T...   \n",
       "param_skb__k                                                            50   \n",
       "params                   {'rfr__max_depth': 175, 'rfr__n_estimators': 5...   \n",
       "rank_test_score                                                          8   \n",
       "split0_test_score                                                 0.881144   \n",
       "split0_train_score                                                0.972819   \n",
       "split1_test_score                                                  0.82838   \n",
       "split1_train_score                                                0.978166   \n",
       "split2_test_score                                                 0.880549   \n",
       "split2_train_score                                                0.977177   \n",
       "split3_test_score                                                 0.838089   \n",
       "split3_train_score                                                0.973394   \n",
       "split4_test_score                                                 0.843671   \n",
       "split4_train_score                                                0.972235   \n",
       "std_fit_time                                                     0.0300502   \n",
       "std_score_time                                                 0.000174491   \n",
       "std_test_score                                                   0.0221685   \n",
       "std_train_score                                                 0.00242714   \n",
       "\n",
       "                                                                       103  \\\n",
       "mean_fit_time                                                     0.418721   \n",
       "mean_score_time                                                   0.102143   \n",
       "mean_test_score                                                   0.853746   \n",
       "mean_train_score                                                  0.973071   \n",
       "param_rfr__max_depth                                                   225   \n",
       "param_rfr__n_estimators                                                 25   \n",
       "param_sfm__estimator     Lasso(alpha=100.0, copy_X=True, fit_intercept=...   \n",
       "param_skb__k                                                            60   \n",
       "params                   {'rfr__max_depth': 225, 'rfr__n_estimators': 2...   \n",
       "rank_test_score                                                          9   \n",
       "split0_test_score                                                 0.858469   \n",
       "split0_train_score                                                0.974267   \n",
       "split1_test_score                                                 0.844762   \n",
       "split1_train_score                                                0.976824   \n",
       "split2_test_score                                                 0.868575   \n",
       "split2_train_score                                                0.973485   \n",
       "split3_test_score                                                 0.836098   \n",
       "split3_train_score                                                0.970407   \n",
       "split4_test_score                                                 0.860828   \n",
       "split4_train_score                                                 0.97037   \n",
       "std_fit_time                                                     0.0294737   \n",
       "std_score_time                                                 4.04658e-05   \n",
       "std_test_score                                                   0.0117006   \n",
       "std_train_score                                                 0.00245253   \n",
       "\n",
       "                                                                       88   \\\n",
       "mean_fit_time                                                      0.62332   \n",
       "mean_score_time                                                   0.102055   \n",
       "mean_test_score                                                    0.85348   \n",
       "mean_train_score                                                  0.975231   \n",
       "param_rfr__max_depth                                                   200   \n",
       "param_rfr__n_estimators                                                 50   \n",
       "param_sfm__estimator     Lasso(alpha=100.0, copy_X=True, fit_intercept=...   \n",
       "param_skb__k                                                            60   \n",
       "params                   {'rfr__max_depth': 200, 'rfr__n_estimators': 5...   \n",
       "rank_test_score                                                         10   \n",
       "split0_test_score                                                 0.869027   \n",
       "split0_train_score                                                0.975081   \n",
       "split1_test_score                                                 0.839782   \n",
       "split1_train_score                                                 0.97421   \n",
       "split2_test_score                                                 0.882678   \n",
       "split2_train_score                                                0.976727   \n",
       "split3_test_score                                                 0.839277   \n",
       "split3_train_score                                                0.976999   \n",
       "split4_test_score                                                 0.836634   \n",
       "split4_train_score                                                0.973138   \n",
       "std_fit_time                                                     0.0452038   \n",
       "std_score_time                                                 0.000112807   \n",
       "std_test_score                                                   0.0188009   \n",
       "std_train_score                                                 0.00147023   \n",
       "\n",
       "                                               ...                          \\\n",
       "mean_fit_time                                  ...                           \n",
       "mean_score_time                                ...                           \n",
       "mean_test_score                                ...                           \n",
       "mean_train_score                               ...                           \n",
       "param_rfr__max_depth                           ...                           \n",
       "param_rfr__n_estimators                        ...                           \n",
       "param_sfm__estimator                           ...                           \n",
       "param_skb__k                                   ...                           \n",
       "params                                         ...                           \n",
       "rank_test_score                                ...                           \n",
       "split0_test_score                              ...                           \n",
       "split0_train_score                             ...                           \n",
       "split1_test_score                              ...                           \n",
       "split1_train_score                             ...                           \n",
       "split2_test_score                              ...                           \n",
       "split2_train_score                             ...                           \n",
       "split3_test_score                              ...                           \n",
       "split3_train_score                             ...                           \n",
       "split4_test_score                              ...                           \n",
       "split4_train_score                             ...                           \n",
       "std_fit_time                                   ...                           \n",
       "std_score_time                                 ...                           \n",
       "std_test_score                                 ...                           \n",
       "std_train_score                                ...                           \n",
       "\n",
       "                                                                       84   \\\n",
       "mean_fit_time                                                     0.662216   \n",
       "mean_score_time                                                   0.103671   \n",
       "mean_test_score                                                   0.832042   \n",
       "mean_train_score                                                  0.973782   \n",
       "param_rfr__max_depth                                                   200   \n",
       "param_rfr__n_estimators                                                 50   \n",
       "param_sfm__estimator     Lasso(alpha=90.0, copy_X=True, fit_intercept=T...   \n",
       "param_skb__k                                                            75   \n",
       "params                   {'rfr__max_depth': 200, 'rfr__n_estimators': 5...   \n",
       "rank_test_score                                                        126   \n",
       "split0_test_score                                                 0.860558   \n",
       "split0_train_score                                                0.974089   \n",
       "split1_test_score                                                 0.836304   \n",
       "split1_train_score                                                0.975875   \n",
       "split2_test_score                                                 0.876314   \n",
       "split2_train_score                                                0.976213   \n",
       "split3_test_score                                                 0.832691   \n",
       "split3_train_score                                                0.970447   \n",
       "split4_test_score                                                 0.754344   \n",
       "split4_train_score                                                0.972286   \n",
       "std_fit_time                                                     0.0544059   \n",
       "std_score_time                                                  0.00312399   \n",
       "std_test_score                                                   0.0420209   \n",
       "std_train_score                                                 0.00217913   \n",
       "\n",
       "                                                                       31   \\\n",
       "mean_fit_time                                                     0.613194   \n",
       "mean_score_time                                                   0.102731   \n",
       "mean_test_score                                                   0.831563   \n",
       "mean_train_score                                                   0.97431   \n",
       "param_rfr__max_depth                                                   175   \n",
       "param_rfr__n_estimators                                                 50   \n",
       "param_sfm__estimator     Lasso(alpha=60.0, copy_X=True, fit_intercept=T...   \n",
       "param_skb__k                                                            60   \n",
       "params                   {'rfr__max_depth': 175, 'rfr__n_estimators': 5...   \n",
       "rank_test_score                                                        127   \n",
       "split0_test_score                                                 0.873161   \n",
       "split0_train_score                                                0.971934   \n",
       "split1_test_score                                                 0.829585   \n",
       "split1_train_score                                                0.980479   \n",
       "split2_test_score                                                 0.865428   \n",
       "split2_train_score                                                0.974625   \n",
       "split3_test_score                                                 0.799097   \n",
       "split3_train_score                                                0.973712   \n",
       "split4_test_score                                                 0.790542   \n",
       "split4_train_score                                                  0.9708   \n",
       "std_fit_time                                                      0.036091   \n",
       "std_score_time                                                 0.000859585   \n",
       "std_test_score                                                   0.0335198   \n",
       "std_train_score                                                 0.00336098   \n",
       "\n",
       "                                                                       68   \\\n",
       "mean_fit_time                                                      0.49073   \n",
       "mean_score_time                                                   0.104644   \n",
       "mean_test_score                                                   0.830095   \n",
       "mean_train_score                                                  0.972493   \n",
       "param_rfr__max_depth                                                   200   \n",
       "param_rfr__n_estimators                                                 35   \n",
       "param_sfm__estimator     Lasso(alpha=80.0, copy_X=True, fit_intercept=T...   \n",
       "param_skb__k                                                            50   \n",
       "params                   {'rfr__max_depth': 200, 'rfr__n_estimators': 3...   \n",
       "rank_test_score                                                        128   \n",
       "split0_test_score                                                 0.858999   \n",
       "split0_train_score                                                0.970132   \n",
       "split1_test_score                                                 0.833037   \n",
       "split1_train_score                                                0.975761   \n",
       "split2_test_score                                                  0.86901   \n",
       "split2_train_score                                                0.973067   \n",
       "split3_test_score                                                 0.764983   \n",
       "split3_train_score                                                 0.97107   \n",
       "split4_test_score                                                 0.824448   \n",
       "split4_train_score                                                0.972437   \n",
       "std_fit_time                                                     0.0503764   \n",
       "std_score_time                                                  0.00393099   \n",
       "std_test_score                                                    0.036414   \n",
       "std_train_score                                                 0.00192938   \n",
       "\n",
       "                                                                       2    \\\n",
       "mean_fit_time                                                     0.357602   \n",
       "mean_score_time                                                   0.102037   \n",
       "mean_test_score                                                   0.828783   \n",
       "mean_train_score                                                  0.973238   \n",
       "param_rfr__max_depth                                                   175   \n",
       "param_rfr__n_estimators                                                 25   \n",
       "param_sfm__estimator     Lasso(alpha=60.0, copy_X=True, fit_intercept=T...   \n",
       "param_skb__k                                                            50   \n",
       "params                   {'rfr__max_depth': 175, 'rfr__n_estimators': 2...   \n",
       "rank_test_score                                                        129   \n",
       "split0_test_score                                                 0.865013   \n",
       "split0_train_score                                                0.971906   \n",
       "split1_test_score                                                  0.81563   \n",
       "split1_train_score                                                0.974229   \n",
       "split2_test_score                                                 0.852781   \n",
       "split2_train_score                                                 0.97713   \n",
       "split3_test_score                                                 0.791759   \n",
       "split3_train_score                                                 0.97004   \n",
       "split4_test_score                                                 0.818735   \n",
       "split4_train_score                                                0.972885   \n",
       "std_fit_time                                                     0.0431841   \n",
       "std_score_time                                                 0.000136917   \n",
       "std_test_score                                                   0.0265827   \n",
       "std_train_score                                                 0.00237726   \n",
       "\n",
       "                                                                       61   \\\n",
       "mean_fit_time                                                     0.470174   \n",
       "mean_score_time                                                   0.102845   \n",
       "mean_test_score                                                   0.827928   \n",
       "mean_train_score                                                  0.973755   \n",
       "param_rfr__max_depth                                                   200   \n",
       "param_rfr__n_estimators                                                 35   \n",
       "param_sfm__estimator     Lasso(alpha=60.0, copy_X=True, fit_intercept=T...   \n",
       "param_skb__k                                                            60   \n",
       "params                   {'rfr__max_depth': 200, 'rfr__n_estimators': 3...   \n",
       "rank_test_score                                                        130   \n",
       "split0_test_score                                                 0.872579   \n",
       "split0_train_score                                                0.973919   \n",
       "split1_test_score                                                 0.825681   \n",
       "split1_train_score                                                 0.97807   \n",
       "split2_test_score                                                 0.869592   \n",
       "split2_train_score                                                0.975188   \n",
       "split3_test_score                                                 0.772421   \n",
       "split3_train_score                                                0.970097   \n",
       "split4_test_score                                                 0.799366   \n",
       "split4_train_score                                                0.971498   \n",
       "std_fit_time                                                     0.0510152   \n",
       "std_score_time                                                  0.00144747   \n",
       "std_test_score                                                   0.0390676   \n",
       "std_train_score                                                 0.00279912   \n",
       "\n",
       "                                                                       24   \\\n",
       "mean_fit_time                                                      0.48128   \n",
       "mean_score_time                                                   0.102628   \n",
       "mean_test_score                                                   0.827436   \n",
       "mean_train_score                                                  0.973437   \n",
       "param_rfr__max_depth                                                   175   \n",
       "param_rfr__n_estimators                                                 35   \n",
       "param_sfm__estimator     Lasso(alpha=90.0, copy_X=True, fit_intercept=T...   \n",
       "param_skb__k                                                            75   \n",
       "params                   {'rfr__max_depth': 175, 'rfr__n_estimators': 3...   \n",
       "rank_test_score                                                        131   \n",
       "split0_test_score                                                 0.863909   \n",
       "split0_train_score                                                0.973816   \n",
       "split1_test_score                                                 0.829327   \n",
       "split1_train_score                                                0.979144   \n",
       "split2_test_score                                                 0.873153   \n",
       "split2_train_score                                                0.974403   \n",
       "split3_test_score                                                 0.775749   \n",
       "split3_train_score                                                0.968132   \n",
       "split4_test_score                                                 0.795043   \n",
       "split4_train_score                                                 0.97169   \n",
       "std_fit_time                                                     0.0453383   \n",
       "std_score_time                                                 0.000684778   \n",
       "std_test_score                                                   0.0378016   \n",
       "std_train_score                                                 0.00360115   \n",
       "\n",
       "                                                                       108  \\\n",
       "mean_fit_time                                                     0.417008   \n",
       "mean_score_time                                                   0.105528   \n",
       "mean_test_score                                                   0.827223   \n",
       "mean_train_score                                                  0.971827   \n",
       "param_rfr__max_depth                                                   225   \n",
       "param_rfr__n_estimators                                                 35   \n",
       "param_sfm__estimator     Lasso(alpha=70.0, copy_X=True, fit_intercept=T...   \n",
       "param_skb__k                                                            75   \n",
       "params                   {'rfr__max_depth': 225, 'rfr__n_estimators': 3...   \n",
       "rank_test_score                                                        132   \n",
       "split0_test_score                                                 0.858349   \n",
       "split0_train_score                                                0.973196   \n",
       "split1_test_score                                                 0.837163   \n",
       "split1_train_score                                                0.974623   \n",
       "split2_test_score                                                  0.84707   \n",
       "split2_train_score                                                0.969178   \n",
       "split3_test_score                                                  0.78579   \n",
       "split3_train_score                                                0.970116   \n",
       "split4_test_score                                                 0.807742   \n",
       "split4_train_score                                                0.972021   \n",
       "std_fit_time                                                     0.0372624   \n",
       "std_score_time                                                  0.00292202   \n",
       "std_test_score                                                   0.0266751   \n",
       "std_train_score                                                 0.00198369   \n",
       "\n",
       "                                                                       1    \\\n",
       "mean_fit_time                                                     0.431252   \n",
       "mean_score_time                                                   0.102063   \n",
       "mean_test_score                                                   0.827077   \n",
       "mean_train_score                                                  0.971889   \n",
       "param_rfr__max_depth                                                   175   \n",
       "param_rfr__n_estimators                                                 25   \n",
       "param_sfm__estimator     Lasso(alpha=60.0, copy_X=True, fit_intercept=T...   \n",
       "param_skb__k                                                            60   \n",
       "params                   {'rfr__max_depth': 175, 'rfr__n_estimators': 2...   \n",
       "rank_test_score                                                        133   \n",
       "split0_test_score                                                  0.85199   \n",
       "split0_train_score                                                0.971737   \n",
       "split1_test_score                                                   0.8393   \n",
       "split1_train_score                                                0.973549   \n",
       "split2_test_score                                                 0.857512   \n",
       "split2_train_score                                                0.974974   \n",
       "split3_test_score                                                 0.804231   \n",
       "split3_train_score                                                0.972705   \n",
       "split4_test_score                                                 0.782352   \n",
       "split4_train_score                                                0.966479   \n",
       "std_fit_time                                                     0.0241449   \n",
       "std_score_time                                                 0.000102126   \n",
       "std_test_score                                                   0.0290469   \n",
       "std_train_score                                                 0.00290592   \n",
       "\n",
       "                                                                       93   \\\n",
       "mean_fit_time                                                     0.390284   \n",
       "mean_score_time                                                   0.106175   \n",
       "mean_test_score                                                   0.825478   \n",
       "mean_train_score                                                  0.973258   \n",
       "param_rfr__max_depth                                                   225   \n",
       "param_rfr__n_estimators                                                 25   \n",
       "param_sfm__estimator     Lasso(alpha=70.0, copy_X=True, fit_intercept=T...   \n",
       "param_skb__k                                                            75   \n",
       "params                   {'rfr__max_depth': 225, 'rfr__n_estimators': 2...   \n",
       "rank_test_score                                                        134   \n",
       "split0_test_score                                                 0.850546   \n",
       "split0_train_score                                                0.975874   \n",
       "split1_test_score                                                 0.832406   \n",
       "split1_train_score                                                0.973976   \n",
       "split2_test_score                                                  0.86414   \n",
       "split2_train_score                                                0.976689   \n",
       "split3_test_score                                                 0.782413   \n",
       "split3_train_score                                                0.968745   \n",
       "split4_test_score                                                 0.797888   \n",
       "split4_train_score                                                0.971009   \n",
       "std_fit_time                                                     0.0336776   \n",
       "std_score_time                                                  0.00507869   \n",
       "std_test_score                                                   0.0309417   \n",
       "std_train_score                                                   0.002985   \n",
       "\n",
       "                                                                       49   \n",
       "mean_fit_time                                                     0.370319  \n",
       "mean_score_time                                                   0.102029  \n",
       "mean_test_score                                                    0.82434  \n",
       "mean_train_score                                                  0.971941  \n",
       "param_rfr__max_depth                                                   200  \n",
       "param_rfr__n_estimators                                                 25  \n",
       "param_sfm__estimator     Lasso(alpha=70.0, copy_X=True, fit_intercept=T...  \n",
       "param_skb__k                                                            60  \n",
       "params                   {'rfr__max_depth': 200, 'rfr__n_estimators': 2...  \n",
       "rank_test_score                                                        135  \n",
       "split0_test_score                                                 0.863986  \n",
       "split0_train_score                                                0.972288  \n",
       "split1_test_score                                                 0.844785  \n",
       "split1_train_score                                                 0.97454  \n",
       "split2_test_score                                                 0.870473  \n",
       "split2_train_score                                                0.972091  \n",
       "split3_test_score                                                   0.7571  \n",
       "split3_train_score                                                0.971139  \n",
       "split4_test_score                                                 0.785356  \n",
       "split4_train_score                                                0.969649  \n",
       "std_fit_time                                                      0.046442  \n",
       "std_score_time                                                 8.96399e-05  \n",
       "std_test_score                                                   0.0450755  \n",
       "std_train_score                                                 0.00159969  \n",
       "\n",
       "[24 rows x 135 columns]"
      ]
     },
     "execution_count": 105,
     "metadata": {},
     "output_type": "execute_result"
    }
   ],
   "source": [
    "pd.DataFrame(rfr_gs.cv_results_).sort_values(by='rank_test_score').T"
   ]
  },
  {
   "cell_type": "code",
   "execution_count": 106,
   "metadata": {
    "scrolled": false
   },
   "outputs": [
    {
     "data": {
      "text/plain": [
       "{'rfr__max_depth': 200,\n",
       " 'rfr__n_estimators': 35,\n",
       " 'sfm__estimator': Lasso(alpha=60.0, copy_X=True, fit_intercept=True, max_iter=1000,\n",
       "    normalize=False, positive=False, precompute=False, random_state=None,\n",
       "    selection='cyclic', tol=0.0001, warm_start=False),\n",
       " 'skb__k': 75}"
      ]
     },
     "execution_count": 106,
     "metadata": {},
     "output_type": "execute_result"
    }
   ],
   "source": [
    "rfr_gs.best_params_"
   ]
  },
  {
   "cell_type": "code",
   "execution_count": 107,
   "metadata": {},
   "outputs": [
    {
     "data": {
      "text/plain": [
       "0.97867488720290607"
      ]
     },
     "execution_count": 107,
     "metadata": {},
     "output_type": "execute_result"
    }
   ],
   "source": [
    "rfr_gs.score(X_train, y_train)"
   ]
  },
  {
   "cell_type": "code",
   "execution_count": 108,
   "metadata": {},
   "outputs": [
    {
     "data": {
      "text/plain": [
       "0.85581053273401853"
      ]
     },
     "execution_count": 108,
     "metadata": {},
     "output_type": "execute_result"
    }
   ],
   "source": [
    "rfr_gs.score(X_test, y_test)"
   ]
  },
  {
   "cell_type": "code",
   "execution_count": 109,
   "metadata": {},
   "outputs": [
    {
     "data": {
      "text/plain": [
       "{'rfr': RandomForestRegressor(bootstrap=True, criterion='mse', max_depth=200,\n",
       "            max_features='auto', max_leaf_nodes=None,\n",
       "            min_impurity_split=1e-07, min_samples_leaf=1,\n",
       "            min_samples_split=2, min_weight_fraction_leaf=0.0,\n",
       "            n_estimators=35, n_jobs=-1, oob_score=False, random_state=None,\n",
       "            verbose=0, warm_start=False),\n",
       " 'scaler': StandardScaler(copy=True, with_mean=True, with_std=True),\n",
       " 'sfm': SelectFromModel(estimator=Lasso(alpha=60.0, copy_X=True, fit_intercept=True, max_iter=1000,\n",
       "    normalize=False, positive=False, precompute=False, random_state=None,\n",
       "    selection='cyclic', tol=0.0001, warm_start=False),\n",
       "         prefit=False, threshold=None),\n",
       " 'skb': SelectKBest(k=75, score_func=<function f_regression at 0x7f12cfa1d378>)}"
      ]
     },
     "execution_count": 109,
     "metadata": {},
     "output_type": "execute_result"
    }
   ],
   "source": [
    "rfr_gs.best_estimator_.named_steps"
   ]
  },
  {
   "cell_type": "code",
   "execution_count": 110,
   "metadata": {},
   "outputs": [
    {
     "data": {
      "text/plain": [
       "75"
      ]
     },
     "execution_count": 110,
     "metadata": {},
     "output_type": "execute_result"
    }
   ],
   "source": [
    "rfr_gs.best_estimator_.named_steps['skb'].get_support().sum()"
   ]
  },
  {
   "cell_type": "code",
   "execution_count": 111,
   "metadata": {
    "scrolled": true
   },
   "outputs": [
    {
     "data": {
      "text/plain": [
       "68"
      ]
     },
     "execution_count": 111,
     "metadata": {},
     "output_type": "execute_result"
    }
   ],
   "source": [
    "rfr_gs.best_estimator_.named_steps['sfm'].get_support().sum()"
   ]
  },
  {
   "cell_type": "code",
   "execution_count": 112,
   "metadata": {},
   "outputs": [
    {
     "data": {
      "text/plain": [
       "68"
      ]
     },
     "execution_count": 112,
     "metadata": {},
     "output_type": "execute_result"
    }
   ],
   "source": [
    "rfr_gs.best_estimator_.named_steps['rfr'].n_features_"
   ]
  },
  {
   "cell_type": "markdown",
   "metadata": {},
   "source": [
    "The model's SelectKBest was applied to feature-select based on f-regression using the f-test. This narrowed the 146 features to 75, and then the `Lasso` regularizatoin method applied in `SelectFromModel` reduced the number of relevant features from 75 to 68. "
   ]
  },
  {
   "cell_type": "code",
   "execution_count": 159,
   "metadata": {},
   "outputs": [
    {
     "data": {
      "text/plain": [
       "array([ True,  True,  True,  True,  True, False,  True,  True,  True,\n",
       "        True,  True,  True,  True,  True,  True, False,  True,  True,\n",
       "       False, False, False,  True, False,  True,  True,  True, False,\n",
       "       False, False, False,  True, False,  True,  True,  True, False,\n",
       "        True,  True, False, False,  True,  True, False,  True,  True,\n",
       "        True, False, False, False, False, False,  True, False, False,\n",
       "        True, False, False, False, False, False,  True,  True, False,\n",
       "       False, False,  True, False,  True,  True, False,  True, False,\n",
       "       False,  True,  True,  True, False,  True, False,  True,  True,\n",
       "        True, False,  True,  True,  True, False, False, False, False,\n",
       "       False, False, False, False, False, False, False, False, False,\n",
       "       False,  True,  True,  True,  True, False,  True,  True, False,\n",
       "       False, False,  True,  True, False,  True,  True,  True,  True,\n",
       "       False, False,  True,  True,  True,  True,  True, False,  True,\n",
       "       False,  True, False,  True,  True, False, False, False, False,\n",
       "       False, False,  True, False,  True,  True, False, False, False,\n",
       "        True,  True], dtype=bool)"
      ]
     },
     "execution_count": 159,
     "metadata": {},
     "output_type": "execute_result"
    }
   ],
   "source": [
    "skb = rfr_gs.best_estimator_.named_steps['skb'].get_support()\n",
    "skb"
   ]
  },
  {
   "cell_type": "code",
   "execution_count": 163,
   "metadata": {},
   "outputs": [
    {
     "data": {
      "text/plain": [
       "Index(['LotFrontage', 'LotArea', 'YearBuilt', 'YearRemodAdd', 'BsmtFinSF1',\n",
       "       'BsmtUnfSF', 'TotalBsmtSF', '1stFlrSF', '2ndFlrSF', 'GrLivArea',\n",
       "       'GarageYrBlt', 'WoodDeckSF', 'OpenPorchSF', 'EnclosedPorch',\n",
       "       'ScreenPorch', 'PoolArea', 'MSSubClass_30', 'MSSubClass_45',\n",
       "       'MSSubClass_50', 'MSSubClass_60', 'MSSubClass_90', 'MSSubClass_160',\n",
       "       'MSSubClass_180', 'MSSubClass_190', 'MSZoning_RL', 'MSZoning_RM',\n",
       "       'LotShape_IR1', 'LotShape_IR2', 'LotShape_Reg', 'LandContour_Bnk',\n",
       "       'LandContour_HLS', 'LotConfig_CulDSac', 'LotConfig_Inside',\n",
       "       'Neighborhood_BrDale', 'Neighborhood_BrkSide', 'Neighborhood_Edwards',\n",
       "       'Neighborhood_IDOTRR', 'Neighborhood_MeadowV', 'Neighborhood_NAmes',\n",
       "       'Neighborhood_NoRidge', 'Neighborhood_NridgHt', 'Neighborhood_OldTown',\n",
       "       'Neighborhood_Sawyer', 'Neighborhood_Somerst', 'Neighborhood_StoneBr',\n",
       "       'Neighborhood_Timber', 'Condition1_Artery', 'Condition1_Feedr',\n",
       "       'Condition1_Norm', 'BldgType_1Fam', 'BldgType_2fmCon',\n",
       "       'BldgType_Duplex', 'BldgType_Twnhs', 'HouseStyle_1.5Fin',\n",
       "       'HouseStyle_1.5Unf', 'HouseStyle_2Story', 'HouseStyle_SFoyer',\n",
       "       'Foundation_BrkTil', 'Foundation_CBlock', 'Foundation_PConc',\n",
       "       'Foundation_Slab', 'BsmtQual_Ex', 'BsmtQual_Fa', 'BsmtQual_Gd',\n",
       "       'BsmtQual_NA', 'BsmtQual_TA', 'GarageType_Attchd', 'GarageType_BuiltIn',\n",
       "       'GarageType_Detchd', 'GarageType_NA', 'SaleType_New', 'SaleType_WD',\n",
       "       'SaleCondition_Abnorml', 'SaleCondition_Normal',\n",
       "       'SaleCondition_Partial'],\n",
       "      dtype='object')"
      ]
     },
     "execution_count": 163,
     "metadata": {},
     "output_type": "execute_result"
    }
   ],
   "source": [
    "skb_features = X_train.columns[skb]\n",
    "skb_features\n",
    "# these are the selected features from SelectKBest"
   ]
  },
  {
   "cell_type": "code",
   "execution_count": 160,
   "metadata": {},
   "outputs": [],
   "source": [
    "lasso = rfr_gs.best_estimator_.named_steps['sfm'].get_support()"
   ]
  },
  {
   "cell_type": "code",
   "execution_count": 165,
   "metadata": {},
   "outputs": [
    {
     "name": "stderr",
     "output_type": "stream",
     "text": [
      "/opt/conda/lib/python3.6/site-packages/pandas/indexes/base.py:1434: VisibleDeprecationWarning: boolean index did not match indexed array along dimension 0; dimension is 146 but corresponding boolean dimension is 75\n",
      "  result = getitem(key)\n"
     ]
    },
    {
     "data": {
      "text/plain": [
       "Index(['LotFrontage', 'LotArea', 'YearBuilt', 'YearRemodAdd', 'BsmtFinSF1',\n",
       "       'BsmtFinSF2', 'BsmtUnfSF', 'TotalBsmtSF', '1stFlrSF', '2ndFlrSF',\n",
       "       'GrLivArea', 'GarageYrBlt', 'WoodDeckSF', 'OpenPorchSF',\n",
       "       'EnclosedPorch', '3SsnPorch', 'PoolArea', 'YrSold', 'MSSubClass_20',\n",
       "       'MSSubClass_30', 'MSSubClass_40', 'MSSubClass_45', 'MSSubClass_50',\n",
       "       'MSSubClass_60', 'MSSubClass_70', 'MSSubClass_75', 'MSSubClass_80',\n",
       "       'MSSubClass_85', 'MSSubClass_90', 'MSSubClass_120', 'MSSubClass_160',\n",
       "       'MSSubClass_180', 'MSSubClass_190', 'MSZoning_RH', 'MSZoning_RL',\n",
       "       'MSZoning_RM', 'Street_Grvl', 'Street_Pave', 'LotShape_IR1',\n",
       "       'LotShape_IR2', 'LotShape_IR3', 'LotShape_Reg', 'LandContour_Bnk',\n",
       "       'LandContour_HLS', 'LandContour_Low', 'LandContour_Lvl',\n",
       "       'Utilities_AllPub', 'Utilities_NoSeWa', 'LotConfig_Corner',\n",
       "       'LotConfig_CulDSac', 'LotConfig_FR2', 'LotConfig_FR3',\n",
       "       'LotConfig_Inside', 'LandSlope_Gtl', 'LandSlope_Mod',\n",
       "       'Neighborhood_Blmngtn', 'Neighborhood_Blueste', 'Neighborhood_BrDale',\n",
       "       'Neighborhood_BrkSide', 'Neighborhood_Crawfor', 'Neighborhood_Edwards',\n",
       "       'Neighborhood_Gilbert', 'Neighborhood_IDOTRR', 'Neighborhood_MeadowV',\n",
       "       'Neighborhood_NAmes', 'Neighborhood_NPkVill', 'Neighborhood_NWAmes',\n",
       "       'Neighborhood_NoRidge'],\n",
       "      dtype='object')"
      ]
     },
     "execution_count": 165,
     "metadata": {},
     "output_type": "execute_result"
    }
   ],
   "source": [
    "lasso_features = X_train.columns[lasso]\n",
    "lasso_features"
   ]
  },
  {
   "cell_type": "code",
   "execution_count": 210,
   "metadata": {
    "scrolled": false
   },
   "outputs": [
    {
     "data": {
      "text/plain": [
       "68"
      ]
     },
     "metadata": {},
     "output_type": "display_data"
    },
    {
     "data": {
      "text/plain": [
       "11"
      ]
     },
     "metadata": {},
     "output_type": "display_data"
    },
    {
     "data": {
      "text/plain": [
       "array([ True,  True,  True,  True,  True, False,  True,  True,  True,\n",
       "        True,  True, False, False, False, False, False, False, False,\n",
       "       False, False, False, False, False, False, False, False, False,\n",
       "       False, False, False, False, False, False, False, False, False,\n",
       "       False, False, False, False, False, False, False, False, False,\n",
       "       False, False, False, False, False, False, False, False, False,\n",
       "       False, False, False, False,  True, False, False, False, False,\n",
       "       False, False, False, False, False], dtype=bool)"
      ]
     },
     "metadata": {},
     "output_type": "display_data"
    }
   ],
   "source": [
    "rfr = rfr_gs.best_estimator_.named_steps['rfr'].feature_importances_\n",
    "display(len(rfr))\n",
    "top11_rfr_features = rfr > 0.0125\n",
    "display((rfr > 0.0125).sum())\n",
    "display(top11_rfr_features)"
   ]
  },
  {
   "cell_type": "code",
   "execution_count": 215,
   "metadata": {
    "scrolled": true
   },
   "outputs": [
    {
     "data": {
      "text/plain": [
       "(array([ 0,  1,  2,  3,  4,  6,  7,  8,  9, 10, 58]),)"
      ]
     },
     "execution_count": 215,
     "metadata": {},
     "output_type": "execute_result"
    }
   ],
   "source": [
    "feature_indices = np.where(rfr>0.0125) \n",
    "feature_indices\n",
    "# gives the array index for where the important features are that are > 0.0125."
   ]
  },
  {
   "cell_type": "code",
   "execution_count": 212,
   "metadata": {},
   "outputs": [
    {
     "data": {
      "text/plain": [
       "Index(['LotFrontage', 'LotArea', 'YearBuilt', 'YearRemodAdd', 'BsmtFinSF1',\n",
       "       'BsmtUnfSF', 'TotalBsmtSF', '1stFlrSF', '2ndFlrSF', 'GrLivArea',\n",
       "       'Neighborhood_BrkSide'],\n",
       "      dtype='object')"
      ]
     },
     "execution_count": 212,
     "metadata": {},
     "output_type": "execute_result"
    }
   ],
   "source": [
    "rfr_features = lasso_features[feature_indices]\n",
    "rfr_features"
   ]
  },
  {
   "cell_type": "code",
   "execution_count": 217,
   "metadata": {},
   "outputs": [
    {
     "data": {
      "text/plain": [
       "array([ 0.01285985,  0.02866097,  0.11039587,  0.02395657,  0.02325568,\n",
       "        0.12874889,  0.03012697,  0.05785756,  0.34043044,  0.01532522,\n",
       "        0.15265564])"
      ]
     },
     "execution_count": 217,
     "metadata": {},
     "output_type": "execute_result"
    }
   ],
   "source": [
    "rfr_coefs = rfr[feature_indices]\n",
    "rfr_coefs"
   ]
  },
  {
   "cell_type": "code",
   "execution_count": 223,
   "metadata": {
    "scrolled": true
   },
   "outputs": [
    {
     "data": {
      "text/html": [
       "<div>\n",
       "<table border=\"1\" class=\"dataframe\">\n",
       "  <thead>\n",
       "    <tr style=\"text-align: right;\">\n",
       "      <th></th>\n",
       "      <th>feature</th>\n",
       "      <th>importance</th>\n",
       "    </tr>\n",
       "  </thead>\n",
       "  <tbody>\n",
       "    <tr>\n",
       "      <th>0</th>\n",
       "      <td>LotFrontage</td>\n",
       "      <td>0.012860</td>\n",
       "    </tr>\n",
       "    <tr>\n",
       "      <th>1</th>\n",
       "      <td>LotArea</td>\n",
       "      <td>0.028661</td>\n",
       "    </tr>\n",
       "    <tr>\n",
       "      <th>2</th>\n",
       "      <td>YearBuilt</td>\n",
       "      <td>0.110396</td>\n",
       "    </tr>\n",
       "    <tr>\n",
       "      <th>3</th>\n",
       "      <td>YearRemodAdd</td>\n",
       "      <td>0.023957</td>\n",
       "    </tr>\n",
       "    <tr>\n",
       "      <th>4</th>\n",
       "      <td>BsmtFinSF1</td>\n",
       "      <td>0.023256</td>\n",
       "    </tr>\n",
       "    <tr>\n",
       "      <th>5</th>\n",
       "      <td>BsmtUnfSF</td>\n",
       "      <td>0.128749</td>\n",
       "    </tr>\n",
       "    <tr>\n",
       "      <th>6</th>\n",
       "      <td>TotalBsmtSF</td>\n",
       "      <td>0.030127</td>\n",
       "    </tr>\n",
       "    <tr>\n",
       "      <th>7</th>\n",
       "      <td>1stFlrSF</td>\n",
       "      <td>0.057858</td>\n",
       "    </tr>\n",
       "    <tr>\n",
       "      <th>8</th>\n",
       "      <td>2ndFlrSF</td>\n",
       "      <td>0.340430</td>\n",
       "    </tr>\n",
       "    <tr>\n",
       "      <th>9</th>\n",
       "      <td>GrLivArea</td>\n",
       "      <td>0.015325</td>\n",
       "    </tr>\n",
       "    <tr>\n",
       "      <th>10</th>\n",
       "      <td>Neighborhood_BrkSide</td>\n",
       "      <td>0.152656</td>\n",
       "    </tr>\n",
       "  </tbody>\n",
       "</table>\n",
       "</div>"
      ],
      "text/plain": [
       "                 feature  importance\n",
       "0            LotFrontage    0.012860\n",
       "1                LotArea    0.028661\n",
       "2              YearBuilt    0.110396\n",
       "3           YearRemodAdd    0.023957\n",
       "4             BsmtFinSF1    0.023256\n",
       "5              BsmtUnfSF    0.128749\n",
       "6            TotalBsmtSF    0.030127\n",
       "7               1stFlrSF    0.057858\n",
       "8               2ndFlrSF    0.340430\n",
       "9              GrLivArea    0.015325\n",
       "10  Neighborhood_BrkSide    0.152656"
      ]
     },
     "execution_count": 223,
     "metadata": {},
     "output_type": "execute_result"
    }
   ],
   "source": [
    "top11_features = pd.DataFrame(list(zip(rfr_features, rfr_coefs)), columns = ['feature', 'importance'])\n",
    "top11_features"
   ]
  },
  {
   "cell_type": "code",
   "execution_count": 231,
   "metadata": {},
   "outputs": [
    {
     "data": {
      "image/png": "[encoded data removed]",
      "text/plain": [
       "<matplotlib.figure.Figure at 0x7f12c42057f0>"
      ]
     },
     "metadata": {
      "image/png": {
       "height": 357,
       "width": 697
      }
     },
     "output_type": "display_data"
    }
   ],
   "source": [
    "top11_features.sort_values('importance', ascending=True).plot(x = 'feature', y='importance', kind='barh',\\\n",
    "                                                               figsize=(10,6))\n",
    "plt.show()"
   ]
  },
  {
   "cell_type": "code",
   "execution_count": null,
   "metadata": {
    "collapsed": true
   },
   "outputs": [],
   "source": []
  },
  {
   "cell_type": "code",
   "execution_count": null,
   "metadata": {
    "collapsed": true
   },
   "outputs": [],
   "source": []
  },
  {
   "cell_type": "code",
   "execution_count": null,
   "metadata": {
    "collapsed": true
   },
   "outputs": [],
   "source": []
  },
  {
   "cell_type": "code",
   "execution_count": null,
   "metadata": {
    "collapsed": true
   },
   "outputs": [],
   "source": []
  },
  {
   "cell_type": "code",
   "execution_count": null,
   "metadata": {
    "collapsed": true
   },
   "outputs": [],
   "source": []
  },
  {
   "cell_type": "code",
   "execution_count": null,
   "metadata": {
    "collapsed": true
   },
   "outputs": [],
   "source": []
  },
  {
   "cell_type": "code",
   "execution_count": null,
   "metadata": {
    "collapsed": true,
    "scrolled": true
   },
   "outputs": [],
   "source": [
    "clean_house_df = pd.read_pickle('./assets/clean_house_df.p')"
   ]
  },
  {
   "cell_type": "code",
   "execution_count": null,
   "metadata": {},
   "outputs": [],
   "source": [
    "clean_house_df.sample(5)"
   ]
  },
  {
   "cell_type": "markdown",
   "metadata": {},
   "source": [
    "**The size of my dataset is 3.2 MB as shown below:**"
   ]
  },
  {
   "cell_type": "code",
   "execution_count": null,
   "metadata": {
    "scrolled": true
   },
   "outputs": [],
   "source": [
    "sys.getsizeof(clean_house_df)/1000000"
   ]
  },
  {
   "cell_type": "markdown",
   "metadata": {},
   "source": [
    "### Understanding the Objective"
   ]
  },
  {
   "cell_type": "markdown",
   "metadata": {},
   "source": [
    "In order to meet the 1st objective (which is to build a model using the fixed (not easily renovatable) features to predict the value of a residential home (`SalePrice`), I did some research online to help me roughly determine what features are considered difficult to renovate. My research led me to the following website and pdf:\n",
    "    - http://www.remodeling.hw.net/cost-vs-value/2010/west-north-central/des-moines-ia/\n",
    "    - http://cdnassets.hw.net/b6/3d/047accdd4174a4965051631d7900/cvv-2010-2011-professional-desmoinesia.pdf\n",
    "Together with the data dictionary, the following features were categorized into the following 3 categories:\n",
    "- features that cannot be changed\n",
    "- features that are difficult to fix\n",
    "- features that are less difficult to fix"
   ]
  },
  {
   "cell_type": "code",
   "execution_count": null,
   "metadata": {
    "scrolled": true
   },
   "outputs": [],
   "source": [
    "clean_house_df.columns"
   ]
  },
  {
   "cell_type": "code",
   "execution_count": null,
   "metadata": {
    "collapsed": true
   },
   "outputs": [],
   "source": [
    "clean_house_df.drop('MiscVal', axis=1, inplace=True)"
   ]
  },
  {
   "cell_type": "code",
   "execution_count": null,
   "metadata": {},
   "outputs": [],
   "source": [
    "len(clean_house_df.columns)"
   ]
  },
  {
   "cell_type": "code",
   "execution_count": null,
   "metadata": {
    "collapsed": true
   },
   "outputs": [],
   "source": [
    "cannot_change = ['Id', 'MSSubClass', 'MSZoning', 'LotFrontage', 'LotArea', 'Street', 'LotShape', 'LandContour',\\\n",
    "                 'Utilities', 'LotConfig', 'LandSlope', 'Neighborhood', 'Condition1', 'Condition2', 'BldgType', \\\n",
    "                 'HouseStyle','YearBuilt', 'YearRemodAdd', 'Foundation', 'BsmtQual', 'BsmtFinSF1', 'BsmtFinSF2', \\\n",
    "                 'BsmtUnfSF', 'TotalBsmtSF', '1stFlrSF', '2ndFlrSF', 'GrLivArea', 'GarageType', 'GarageYrBlt',\\\n",
    "                 'WoodDeckSF', 'OpenPorchSF', 'EnclosedPorch', '3SsnPorch', 'ScreenPorch', 'PoolArea',\\\n",
    "                 'MoSold', 'YrSold', 'SaleType', 'SaleCondition', 'SalePrice']"
   ]
  },
  {
   "cell_type": "code",
   "execution_count": null,
   "metadata": {
    "collapsed": true
   },
   "outputs": [],
   "source": [
    "lesshardtofix = ['BsmtFinSF1', 'Heating', 'HeatingQC', 'CentralAir', 'Electrical', 'LowQualFinSF',  'KitchenQual',\\\n",
    "                'TotRmsAbvGrd', 'GarageFinish', 'GarageQual', 'PavedDrive',]"
   ]
  },
  {
   "cell_type": "code",
   "execution_count": null,
   "metadata": {
    "collapsed": true
   },
   "outputs": [],
   "source": [
    "import pickle"
   ]
  },
  {
   "cell_type": "code",
   "execution_count": null,
   "metadata": {
    "collapsed": true,
    "scrolled": true
   },
   "outputs": [],
   "source": [
    "pickle.dump(lesshardtofix, open('lesshardtofix.p', 'wb'))"
   ]
  },
  {
   "cell_type": "code",
   "execution_count": null,
   "metadata": {
    "collapsed": true
   },
   "outputs": [],
   "source": [
    "hardtofix = ['OverallQual', 'OverallCond', 'RoofStyle', 'RoofMatl','Exterior1st', 'ExterQual','ExterCond',\\\n",
    "             'MasVnrType', 'MasVnrArea', 'BsmtExposure', 'BsmtFullBath', 'BsmtHalfBath', \\\n",
    "             'FullBath', 'HalfBath', 'BedroomAbvGr', 'KitchenAbvGr', 'Functional', 'Fireplaces', 'GarageArea',]"
   ]
  },
  {
   "cell_type": "code",
   "execution_count": null,
   "metadata": {
    "collapsed": true
   },
   "outputs": [],
   "source": [
    "pickle.dump(hardtofix, open('hardtofix.p', 'wb'))"
   ]
  },
  {
   "cell_type": "code",
   "execution_count": null,
   "metadata": {
    "scrolled": true
   },
   "outputs": [],
   "source": [
    "display(len(cannot_change))\n",
    "display(len(lesshardtofix))\n",
    "display(len(hardtofix))"
   ]
  },
  {
   "cell_type": "markdown",
   "metadata": {},
   "source": [
    "### Examine the non-renovatable features of a home to estimate home value"
   ]
  },
  {
   "cell_type": "code",
   "execution_count": null,
   "metadata": {},
   "outputs": [],
   "source": [
    "cannot_change_df = clean_house_df[cannot_change] \n",
    "cannot_change_df.shape"
   ]
  },
  {
   "cell_type": "code",
   "execution_count": null,
   "metadata": {
    "scrolled": true
   },
   "outputs": [],
   "source": [
    "cannot_change_df.columns"
   ]
  },
  {
   "cell_type": "markdown",
   "metadata": {},
   "source": [
    "#### Define the target `SalePrice` and the predictive features"
   ]
  },
  {
   "cell_type": "code",
   "execution_count": null,
   "metadata": {
    "collapsed": true
   },
   "outputs": [],
   "source": [
    "y = cannot_change_df['SalePrice']"
   ]
  },
  {
   "cell_type": "code",
   "execution_count": null,
   "metadata": {
    "collapsed": true
   },
   "outputs": [],
   "source": [
    "X = clean_house_df[cannot_change].drop(['SalePrice', 'Id'], axis=1)"
   ]
  },
  {
   "cell_type": "code",
   "execution_count": null,
   "metadata": {},
   "outputs": [],
   "source": [
    "display(X.shape)\n",
    "display(y.shape)"
   ]
  },
  {
   "cell_type": "code",
   "execution_count": null,
   "metadata": {
    "scrolled": true
   },
   "outputs": [],
   "source": [
    "X['YrSold'].value_counts()"
   ]
  },
  {
   "cell_type": "markdown",
   "metadata": {},
   "source": [
    "#### Do a manual train/test/split where if the Yr Sold is 2010, then it is the train set, otherwise if the year sold is 2006-2009, then it is in the train set."
   ]
  },
  {
   "cell_type": "code",
   "execution_count": null,
   "metadata": {
    "collapsed": true
   },
   "outputs": [],
   "source": [
    "X_test = X[X['YrSold'] == 2010]\n",
    "X_train = X[X['YrSold'] != 2010]"
   ]
  },
  {
   "cell_type": "code",
   "execution_count": null,
   "metadata": {},
   "outputs": [],
   "source": [
    "display(X_test.shape)\n",
    "display(X_train.shape)"
   ]
  },
  {
   "cell_type": "code",
   "execution_count": null,
   "metadata": {},
   "outputs": [],
   "source": [
    "y_test = cannot_change_df[cannot_change_df['YrSold'] == 2010]['SalePrice']\n",
    "y_test.shape"
   ]
  },
  {
   "cell_type": "code",
   "execution_count": null,
   "metadata": {},
   "outputs": [],
   "source": [
    "y_train = cannot_change_df[cannot_change_df['YrSold'] != 2010]['SalePrice']\n",
    "y_train.shape"
   ]
  },
  {
   "cell_type": "code",
   "execution_count": null,
   "metadata": {
    "collapsed": true
   },
   "outputs": [],
   "source": [
    "pickle.dump(y_test, open('y_test.p', 'wb'))\n",
    "pickle.dump(y_train, open('y_train.p', 'wb'))"
   ]
  },
  {
   "cell_type": "markdown",
   "metadata": {},
   "source": [
    "There are some features that are categorial, while there are others that are numeric. In order to enhance the performance of a regression model, I will convert the categorial fetaures to numeric by using pandas `get_dummies`. Below, I separate out the cateogiral from the numeric feature based on the data dictionary."
   ]
  },
  {
   "cell_type": "code",
   "execution_count": null,
   "metadata": {
    "scrolled": false
   },
   "outputs": [],
   "source": [
    "display(X.columns)\n",
    "display(len(X.columns))"
   ]
  },
  {
   "cell_type": "code",
   "execution_count": null,
   "metadata": {},
   "outputs": [],
   "source": [
    "fixed_categorical = ['MSSubClass', 'MSZoning', 'Street', 'LotShape', 'LandContour', 'Utilities', 'LotConfig', \\\n",
    "                 'LandSlope', 'Neighborhood', 'Condition1', 'Condition2','BldgType', 'HouseStyle', 'Foundation',\\\n",
    "                'BsmtQual', 'GarageType', 'SaleType']\n",
    "display(len(fixed_categorical))"
   ]
  },
  {
   "cell_type": "code",
   "execution_count": null,
   "metadata": {
    "scrolled": true
   },
   "outputs": [],
   "source": [
    "fixed_numeric = [column for column in X.columns if column not in fixed_categorical]\n",
    "display(len(fixed_numeric))"
   ]
  },
  {
   "cell_type": "code",
   "execution_count": null,
   "metadata": {
    "collapsed": true
   },
   "outputs": [],
   "source": [
    "X_dummies_df = pd.get_dummies(data = X, columns = fixed_categorical)"
   ]
  },
  {
   "cell_type": "code",
   "execution_count": null,
   "metadata": {},
   "outputs": [],
   "source": [
    "display(X_dummies_df.shape)\n",
    "display(X_dummies_df.head())"
   ]
  },
  {
   "cell_type": "code",
   "execution_count": null,
   "metadata": {},
   "outputs": [],
   "source": [
    "X_test = X_dummies_df[X_dummies_df['YrSold'] == 2010]\n",
    "display(X_test.shape)\n",
    "X_train = X_dummies_df[X_dummies_df['YrSold'] != 2010]\n",
    "display(X_train.shape)"
   ]
  },
  {
   "cell_type": "code",
   "execution_count": null,
   "metadata": {
    "collapsed": true
   },
   "outputs": [],
   "source": [
    "X_test.to_pickle('./assets/X_test.p')"
   ]
  },
  {
   "cell_type": "code",
   "execution_count": null,
   "metadata": {
    "collapsed": true
   },
   "outputs": [],
   "source": [
    "X_train.to_pickle('./assets/X_train.p')"
   ]
  },
  {
   "cell_type": "code",
   "execution_count": null,
   "metadata": {
    "collapsed": true
   },
   "outputs": [],
   "source": []
  }
 ],
 "metadata": {
  "kernelspec": {
   "display_name": "Python 3",
   "language": "python",
   "name": "python3"
  },
  "language_info": {
   "codemirror_mode": {
    "name": "ipython",
    "version": 3
   },
   "file_extension": ".py",
   "mimetype": "text/x-python",
   "name": "python",
   "nbconvert_exporter": "python",
   "pygments_lexer": "ipython3",
   "version": "3.6.2"
  }
 },
 "nbformat": 4,
 "nbformat_minor": 2
}
